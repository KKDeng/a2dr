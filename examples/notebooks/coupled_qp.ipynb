{
 "cells": [
  {
   "cell_type": "markdown",
   "metadata": {},
   "source": [
    "# Coupled Quadratic Program\n",
    "\n",
    "## Introduction\n",
    "\n",
    "A quadratic program (QP) is an optimization problem with a quadratic objective and affine equality and inequality constraints. We consider a QP in which $L$ variable blocks are coupled through a set of $s$ linear constraints, represented as\n",
    "\n",
    "$$\\begin{array}{ll}\n",
    "\\text{minimize} & \\sum_{l=1}^L z_l^TQ_lz_l+c_l^Tz_l\\\\\n",
    "\\text{subject to} & F_lz_l\\leq d_l,\\quad l=1,\\dots,L,\\\\\n",
    "& \\sum_{l=1}^LG_lz_l=h\n",
    "\\end{array}$$\n",
    "\n",
    "with respect to $z=(z_1,\\dots,z_L)$, where $z_l \\in \\mathbf{R}^{q_l}, Q_l\\in \\mathbf{S}_{+}^{q_l}$ (the set of positive semidefinite matrices), $c_l\\in\\mathbf{R}^{q_l}, F_l \\in \\mathbf{R}^{p_l \\times q_l}, d_l \\in \\mathbf{R}^{p_l}, G_l \\in \\mathbf{R}^{s \\times q_l}$, and $h \\in \\mathbf{R}^s$ for $l = 1,\\ldots,L$.\n",
    "\n",
    "## Reformulate Problem\n",
    "\n",
    "Given a set $C \\subseteq \\mathbf{R}^q$, define the set indicator function $I_C: \\mathbf{R}^q \\rightarrow \\mathbf{R} \\cup \\{\\infty\\}$ to be\n",
    "\n",
    "$$I_C(x) = \\begin{cases} 0 & x \\in C \\\\ \\infty & \\text{otherwise}. \\end{cases}$$\n",
    "\n",
    "The coupled QP can be written in standard form with\n",
    "\n",
    "$$f_i(x_i)=x_i^TQ_ix_i+c_i^Tx_i+I_{\\{x\\,:\\,F_ix\\leq d_i\\}}(x_i), \n",
    "\\quad i = 1,\\ldots,L,$$\n",
    "$$A = [G_1~\\ldots~G_L], \\quad b = h.$$\n",
    "\n",
    "## Generate Data\n",
    "\n",
    "We solve an instance of this problem with $L = 4, s= 10, q_l = 30$, and $p_l = 50$ for $l = 1,\\ldots,L$. The entries of $c_l \\in \\mathbf{R}^{q_l}$, $F_l \\in \\mathbf{R}^{p_l \\times q_l}$, $G_l \\in \\mathbf{R}^{s \\times q_l}$, $\\tilde z_l \\in \\mathbf{R}^{q_l}$, and $H_l \\in \\mathbf{R}^{q_l \\times q_l}$ are all drawn IID from $N(0,1)$. We then form $d_l = F_l\\tilde z_l + 0.1, Q_l = H_l^TH_l$, and $h = \\sum_{l=1}^L G_l\\tilde z_l$."
   ]
  },
  {
   "cell_type": "code",
   "execution_count": 1,
   "metadata": {},
   "outputs": [],
   "source": [
    "import numpy as np\n",
    "\n",
    "np.random.seed(1)\n",
    "\n",
    "L = 4    # Number of blocks.\n",
    "s = 10   # Number of coupling constraints.\n",
    "ql = 30  # Variable dimension of each QP subproblem.\n",
    "pl = 50  # Constraint dimension of each QP subproblem.\n",
    "\n",
    "c_list = [np.random.randn(ql) for l in range(L)]\n",
    "F_list = [np.random.randn(pl,ql) for l in range(L)]\n",
    "G_list = [np.random.randn(s,ql) for l in range(L)]\n",
    "z_tld_list = [np.random.randn(ql) for l in range(L)]\n",
    "H_list = [np.random.randn(ql,ql) for l in range(L)]\n",
    "\n",
    "d_list = [F_list[l].dot(z_tld_list[l]) + 0.1 for l in range(L)]\n",
    "Q_list = [H_list[l].T.dot(H_list[l]) for l in range(L)]\n",
    "\n",
    "G = np.hstack(G_list)\n",
    "z_tld = np.hstack(z_tld_list)\n",
    "h = G.dot(z_tld)"
   ]
  },
  {
   "cell_type": "markdown",
   "metadata": {},
   "source": [
    "## Define Proximal Operator\n",
    "\n",
    "A2DR requires us to provide a proximal oracle for each $f_i$, which computes $\\mathbf{prox}_{tf_i}(v_i)$ given any $v_i \\in \\mathbf{R}^{q_i}$. To do this, we must solve the quadratic program\n",
    "\n",
    "$$\\begin{array}{ll}\n",
    "\\text{minimize} & x_i^T\\left(Q_i+\\frac{1}{2t}I\\right)\n",
    "x_i +(c_i-\\frac{1}{t}v_i)^Tx_i\\\\\n",
    "\\text{subject to} & F_ix_i\\leq d_i\n",
    "\\end{array}$$\n",
    "\n",
    "with respect to $x_i \\in \\mathbf{R}^{q_i}$. \n",
    "\n",
    "There are many QP solvers available. In this example, we will use [OSQP](https://osqp.org/) called via the [CVXPY](https://www.cvxpy.org/) interface."
   ]
  },
  {
   "cell_type": "code",
   "execution_count": 2,
   "metadata": {},
   "outputs": [],
   "source": [
    "import cvxpy\n",
    "from cvxpy import *\n",
    "\n",
    "def prox_qp(v, t, Q, c, F, d):\n",
    "    q = Q.shape[0]\n",
    "    I = np.eye(q)\n",
    "    \n",
    "    # Construct problem.\n",
    "    x = Variable(q)\n",
    "    obj = quad_form(x, Q + I/(2*t)) + (c - v/t)*x\n",
    "    constr = [F*x <= d]\n",
    "    prob = Problem(Minimize(obj), constr)\n",
    "    \n",
    "    # Solve with OSQP.\n",
    "    prob.solve(solver = \"OSQP\")\n",
    "    return x.value"
   ]
  },
  {
   "cell_type": "markdown",
   "metadata": {},
   "source": [
    "## Solve Problem"
   ]
  },
  {
   "cell_type": "code",
   "execution_count": 3,
   "metadata": {},
   "outputs": [
    {
     "name": "stdout",
     "output_type": "stream",
     "text": [
      "----------------------------------------------------------------------\n",
      "a2dr v0.2.3.post1 - Prox-Affine Distributed Convex Optimization Solver\n",
      "                       (c) Anqi Fu, Junzi Zhang\n",
      "                      Stanford University   2019\n",
      "----------------------------------------------------------------------\n",
      "### Preconditioning starts ... ###\n",
      "### Preconditioning finished.  ###\n",
      "max_iter = 1000, t_init (after preconditioning) = 1.73\n",
      "eps_abs = 1.00e-06, eps_rel = 1.00e-08, precond = True\n",
      "ada_reg = True, anderson = True, m_accel = 10\n",
      "lam_accel = 1.00e-08, aa_method = lstsq, D_safe = 1.00e+06\n",
      "eps_safe = 1.00e-06, M_safe = 10\n",
      "variables n = 120, constraints m = 10\n",
      "nnz(A) = 1200\n",
      "Setup time: 1.95e-02\n",
      "----------------------------------------------------\n",
      " iter | total res | primal res | dual res | time (s)\n",
      "----------------------------------------------------\n",
      "     0| 2.81e+01    7.02e+00     2.72e+01   1.16e-01\n",
      "   100| 1.64e-01    8.35e-02     1.41e-01   2.68e+00\n",
      "   194| 1.13e-06    1.11e-06     1.95e-07   4.87e+00\n",
      "----------------------------------------------------\n",
      "Status: Solved\n",
      "Solve time: 4.87e+00\n",
      "Total number of iterations: 195\n",
      "Best total residual: 1.13e-06; reached at iteration 194\n",
      "======================================================================\n",
      "Objective value: 4458.948217739922\n",
      "Constraint violation: 4.525198767295989e-06\n"
     ]
    }
   ],
   "source": [
    "from a2dr import a2dr\n",
    "\n",
    "# Convert problem to standard form.\n",
    "def prox_qp_wrapper(l, Q_list, c_list, F_list, d_list):\n",
    "    return lambda v, t: prox_qp(v, t, Q_list[l], c_list[l], F_list[l], d_list[l])\n",
    "\n",
    "# Use \"map\" method to define list of proximal operators. This addresses the late binding issue:\n",
    "# https://stackoverflow.com/questions/3431676/creating-functions-in-a-loop\n",
    "# https://docs.python-guide.org/writing/gotchas/#late-binding-closures\n",
    "prox_list = list(map(lambda l: prox_qp_wrapper(l, Q_list, c_list, F_list, d_list), range(L)))\n",
    "\n",
    "# Solve with A2DR.\n",
    "a2dr_result = a2dr(prox_list, G_list, h)\n",
    "a2dr_x = a2dr_result[\"x_vals\"]\n",
    "\n",
    "# Compute objective and constraint violation.\n",
    "a2dr_obj = np.sum([a2dr_x[l].dot(Q_list[l]).dot(a2dr_x[l]) + c_list[l].dot(a2dr_x[l]) for l in range(L)])\n",
    "a2dr_constr_vio = [np.linalg.norm(np.maximum(F_list[l].dot(a2dr_x[l]) - d_list[l], 0))**2 for l in range(L)]\n",
    "a2dr_constr_vio += [np.linalg.norm(G.dot(np.hstack(a2dr_x)) - h)**2]\n",
    "a2dr_constr_vio_val = np.sqrt(np.sum(a2dr_constr_vio))\n",
    "\n",
    "# Print solution.\n",
    "print(\"Objective value:\", a2dr_obj)\n",
    "print(\"Constraint violation:\", a2dr_constr_vio_val)"
   ]
  }
 ],
 "metadata": {
  "kernelspec": {
   "display_name": "MHP_MLE_OPT_catalina",
   "language": "python",
   "name": "mhp_mle_opt_catalina"
  },
  "language_info": {
   "codemirror_mode": {
    "name": "ipython",
    "version": 3
   },
   "file_extension": ".py",
   "mimetype": "text/x-python",
   "name": "python",
   "nbconvert_exporter": "python",
   "pygments_lexer": "ipython3",
   "version": "3.6.8"
  }
 },
 "nbformat": 4,
 "nbformat_minor": 2
}
