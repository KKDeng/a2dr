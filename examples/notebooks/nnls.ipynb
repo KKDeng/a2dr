{
 "cells": [
  {
   "cell_type": "markdown",
   "metadata": {},
   "source": [
    "# Non-Negative Least Squares\n",
    "\n",
    "## Introduction\n",
    "\n",
    "In a non-negative least squares (NNLS) problem, we are given data $F \\in \\mathbf{R}^{p \\times q}$ and $g \\in \\mathbf{R}^p$ and seek a vector $z \\in \\mathbf{R}_+^q$ such that $Fz$ is close to $g$. Closeness is defined as the sum of the squared differences, also known as the $\\ell_2$-norm squared $\\|Fz - g\\|_2^2$.\n",
    "\n",
    "We find the optimal $z$ by solving the problem\n",
    "\n",
    "$$\\begin{array}{ll} \\text{minimize} & \\|Fz - g\\|_2^2 \\\\ \\text{subject to} & z \\geq 0. \\end{array}$$\n",
    "\n",
    "## Reformulate and Solve Problem\n",
    "\n",
    "The problem can be written in standard form with\n",
    "\n",
    "$$f_1(x_1) = \\|Fx_1 - g\\|_2^2, \\quad f_2(x_2) = I_+(x_2),$$\n",
    "$$A_1 = I, \\quad A_2 = -I, \\quad b = 0,$$\n",
    "\n",
    "where $x_1,x_2 \\in \\mathbf{R}^p$. Here $I_+: \\mathbf{R}^q \\rightarrow \\mathbf{R} \\cup \\{\\infty\\}$ is the set indicator of the non-negative reals, i.e.,\n",
    "\n",
    "$$I_+(x_2) = \\begin{cases} 0 & x_2 \\geq 0 \\\\ \\infty & \\text{otherwise}. \\end{cases}$$\n",
    "\n",
    "We solve an instance with $p = 150$ and $q = 300$. The matrix $F$ is sparse with 0.1% non-zero entries, which are drawn IID from $N(0,1)$, and the vector $g$ is drawn from $N(0,I)$."
   ]
  },
  {
   "cell_type": "code",
   "execution_count": null,
   "metadata": {},
   "outputs": [],
   "source": [
    "import numpy as np\n",
    "from scipy import sparse\n",
    "from a2dr import a2dr\n",
    "from a2dr.proximal import *\n",
    "\n",
    "np.random.seed(1)\n",
    "\n",
    "# Problem data.\n",
    "p, q = 150, 300 \n",
    "density = 0.001\n",
    "F = sparse.random(p, q, density = density, data_rvs = np.random.randn)\n",
    "g = np.random.randn(p)\n",
    "\n",
    "# Convert problem to standard form.\n",
    "prox_list = [lambda v, t: prox_sum_squares_affine(v, t, F, g), prox_nonneg_constr]\n",
    "A_list = [sparse.eye(n), -sparse.eye(n)]\n",
    "b = np.zeros(n)\n",
    "\n",
    "# Solve with A2DR.\n",
    "a2dr_result = a2dr(prox_list, A_list, b)\n",
    "\n",
    "# Print solution.\n",
    "z_star = a2dr_result[\"x_vals\"][-1]\n",
    "obj = np.linalg.norm(F.dot(z_star) - g, 2)**2\n",
    "print(\"Objective value:\", obj)\n",
    "print(\"Optimal z:\", z_star)"
   ]
  }
 ],
 "metadata": {
  "kernelspec": {
   "display_name": "Python 3",
   "language": "python",
   "name": "python3"
  },
  "language_info": {
   "codemirror_mode": {
    "name": "ipython",
    "version": 3
   },
   "file_extension": ".py",
   "mimetype": "text/x-python",
   "name": "python",
   "nbconvert_exporter": "python",
   "pygments_lexer": "ipython3",
   "version": "3.7.3"
  }
 },
 "nbformat": 4,
 "nbformat_minor": 2
}
