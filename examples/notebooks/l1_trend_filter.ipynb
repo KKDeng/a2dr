{
 "cells": [
  {
   "cell_type": "markdown",
   "metadata": {},
   "source": [
    "# $\\ell_1$ trend filtering\n",
    "\n",
    "**Reference:** S.-J. Kim, K. Koh, S. Boyd, and D. Gorinevsky. [*$\\ell_1$ Trend Filtering*.](http://stanford.edu/~boyd/papers/l1_trend_filter.html) SIAM Review, 51(2):339-360, 2009.\n",
    "\n",
    "## Introduction\n",
    "\n",
    "The problem of estimating underlying trends in time series data arises in a variety of disciplines. The $\\ell_1$ trend filtering method produces trend estimates $z$ that are piecewise linear from the time series $y$.\n",
    "\n",
    "The $\\ell_1$ trend estimation problem can be formulated as\n",
    "\n",
    "$$\\text{minimize}~ \\frac{1}{2}\\|y - z\\|_2^2 + \\alpha \\|Dz\\|_1,$$\n",
    "\n",
    "with variable $z \\in \\mathbf{R}^q$, problem data $y \\in \\mathbf{R}^q$, and smoothing parameter $\\alpha \\geq 0$. Here $D \\in \\mathbf{R}^{(q-2) \\times q}$ is the second difference matrix\n",
    "\n",
    "$$D = \\left[\\begin{array}{ccccccc}\n",
    "1 & -2 &  1 & 0 & \\ldots & 0  &0 \\\\\n",
    "0 &  1 & -2 & 1 & \\ldots & 0 & 0  \\\\\n",
    "\\vdots & \\vdots & \\ddots & \\ddots & \\ddots & \\vdots& \\vdots \\\\\n",
    "0 & 0 & \\ldots &1 & -2 & 1 & 0 \\\\\n",
    "0 & 0 & \\ldots & 0 & 1 & -2 & 1 \n",
    "\\end{array}\\right].$$\n",
    "\n",
    "## Reformulate and Solve Problem\n",
    "\n",
    "This problem can be written in standard form by letting\n",
    "\n",
    "$$f_1(x_1) = \\frac{1}{2}\\|y - x_1\\|_2^2, \\quad f_2(x_2) = \\alpha \\|x_2\\|_1,$$\n",
    "$$A_1 = D, \\quad A_2 = -I, \\quad b = 0,$$\n",
    "\n",
    "where the variables $x_1 \\in \\mathbf{R}^2$ and $x_2 \\in \\mathbf{R}^{q-2}$. We solve an instance with $y$ drawn from $\\mathcal{N}(0,I)$, $q = 1000$, and $\\alpha = 0.01\\|y\\|_{\\infty}$."
   ]
  },
  {
   "cell_type": "code",
   "execution_count": null,
   "metadata": {},
   "outputs": [],
   "source": [
    "import numpy as np\n",
    "from scipy import sparse\n",
    "from a2dr import a2dr\n",
    "from a2dr.proximal import *\n",
    "\n",
    "np.random.seed(1)\n",
    "\n",
    "# Problem data.\n",
    "q = 1000\n",
    "y = np.random.randn(q)\n",
    "alpha = 0.01*np.linalg.norm(y, np.inf)\n",
    "\n",
    "# Form second difference matrix.\n",
    "D = sparse.lil_matrix(sparse.eye(q))\n",
    "D.setdiag(-2, k = 1)\n",
    "D.setdiag(1, k = 2)\n",
    "D = D[:(q-2),:]\n",
    "\n",
    "# Convert problem to standard form.\n",
    "prox_list = [lambda v, t: prox_sum_squares(v, t = 0.5*t, offset = y),\n",
    "             lambda v, t: prox_norm1(v, t = alpha*t)]\n",
    "A_list = [D, -sparse.eye(q-2)]\n",
    "b = np.zeros(q-2)\n",
    "\n",
    "# Solve with A2DR.\n",
    "a2dr_result = a2dr(prox_list, A_list, b)\n",
    "\n",
    "# Save solution.\n",
    "z_star = a2dr_result[\"x_vals\"][-1]\n",
    "print(\"Solve time:\", a2dr_result[\"solve_time\"])\n",
    "print(\"Number of iterations:\", a2dr_result[\"num_iters\"])"
   ]
  },
  {
   "cell_type": "markdown",
   "metadata": {},
   "source": [
    "## Plot Results"
   ]
  },
  {
   "cell_type": "code",
   "execution_count": null,
   "metadata": {},
   "outputs": [],
   "source": [
    "import matplotlib.pyplot as plt\n",
    "\n",
    "# Show plots inline in ipython.\n",
    "%matplotlib inline\n",
    "\n",
    "# Plot properties.\n",
    "plt.rc('text', usetex=True)\n",
    "plt.rc('font', family='serif')\n",
    "font = {'weight' : 'normal',\n",
    "        'size'   : 16}\n",
    "plt.rc('font', **font)\n",
    "\n",
    "# Plot estimated trend with original signal.\n",
    "plt.figure(figsize = (6, 6))\n",
    "plt.plot(np.arange(1,q+1), y, 'k:', linewidth = 1.0)\n",
    "plt.plot(np.arange(1,q+1), z_star, 'b-', linewidth = 2.0)\n",
    "plt.xlabel('time')"
   ]
  }
 ],
 "metadata": {
  "kernelspec": {
   "display_name": "Python 3",
   "language": "python",
   "name": "python3"
  },
  "language_info": {
   "codemirror_mode": {
    "name": "ipython",
    "version": 3
   },
   "file_extension": ".py",
   "mimetype": "text/x-python",
   "name": "python",
   "nbconvert_exporter": "python",
   "pygments_lexer": "ipython3",
   "version": "3.7.3"
  }
 },
 "nbformat": 4,
 "nbformat_minor": 2
}
