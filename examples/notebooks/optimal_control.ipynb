{
 "cells": [
  {
   "cell_type": "markdown",
   "metadata": {},
   "source": [
    "# Optimal Control\n",
    "\n",
    "## Introduction\n",
    "\n",
    "We have a system with a state $z_l \\in \\mathbf{R}^q$ that varies over time steps $l = 1,\\ldots,L$, and actions or inputs $u_l \\in \\mathbf{R}^p$ that we can invoke in each step to affect the state. For example, $z_l$ might be the position and velocity of a rocket and $u_l$ the output of the rocket's thrusters. We model the evolution of the state as a linear dynamical system, i.e.,\n",
    "\n",
    "$$z_{l+1} = F_lz_l + G_lu_l + h_l, \\quad l = 1,\\ldots,L-1,$$\n",
    "\n",
    "where $F_l \\in \\mathbf{R}^{q \\times q}, G_l \\in \\mathbf{R}^{q \\times p}$, and $h_l \\in \\mathbf{R}^q$ are known dynamics matrices.\n",
    "\n",
    "Given an initial state $z_{\\text{init}}$, our goal is to find an optimal set of actions that steers the system to a terminal state $z_{\\text{term}}$. We do this by solving the finite-horizon optimal control problem\n",
    "\n",
    "$$\\begin{array}{ll}\n",
    "\\text{minimize} & \\sum_{l=1}^L \\phi_l(z_l, u_l) \\\\\n",
    "\\text{subject to} & z_{l+1} = F_lz_l + G_lu_l + h_l, \n",
    "\\quad l = 1,\\ldots,L-1, \\\\\n",
    "& z_1 = z_{\\text{init}}, \\quad z_L = z_{\\text{term}}\n",
    "\\end{array}$$\n",
    "\n",
    "with variables $z_l \\in \\mathbf{R}^q$ and $u_l \\in \\mathbf{R}^p$ and cost functions $\\phi_l: \\in \\mathbf{R}^q \\times \\mathbf{R}^p \\rightarrow \\mathbf{R} \\cup \\{\\infty\\}$. We will focus on a time-invariant linear quadratic version of \n",
    "this problem where $F_l = F, G_l = G, h_l = 0$, and\n",
    "\n",
    "$$\\phi_l(z_l,u_l) = \\|z_l\\|_2^2 + \\|u_l\\|_2^2 + I_{\\{u\\,:\\,\\|u\\|_{\\infty} \\leq 1\\}}(u_l), \\quad l = 1,\\ldots,L.$$\n",
    "\n",
    "Here the set indicator is defined as\n",
    "\n",
    "$$I_{\\{u\\,:\\,\\|u\\|_{\\infty} \\leq 1\\}}(u_l) \n",
    "= \\begin{cases} 0 & \\|u_l\\|_{\\infty} \\leq 1 \\\\ \n",
    "\\infty & \\text{otherwise} \\end{cases}$$"
   ]
  },
  {
   "cell_type": "markdown",
   "metadata": {},
   "source": [
    "## Reformulate Problem\n",
    "\n",
    "Let $z = (z_1,\\ldots,z_L) \\in \\mathbf{R}^{Lq}$ and $u = (u_1,\\ldots,u_L) \\in \\mathbf{R}^{Lp}$. The objective function is\n",
    "\n",
    "$$\\sum_{l=1}^L \\phi_l(z_l,u_l) = \\|z\\|_2^2 + \\|u\\|_2^2 + I_{\\{u\\,:\\,\\|u\\|_{\\infty} \\leq 1\\}}(u)$$\n",
    "\n",
    "If we define\n",
    "\n",
    "$$\\tilde F = \\left[\\begin{array}{ccccc}\n",
    "I &    0 & \\ldots &        0 &   0 \\\\\n",
    "-F_1 &    I & \\ldots &        0 &   0 \\\\\n",
    "0 & -F_2 & \\ldots &        0 &   0 \\\\\n",
    "\\vdots & \\vdots & \\ddots & \\vdots & \\vdots \\\\\n",
    "0 &    0 & \\ldots & -F_{L-1} & I \\\\\n",
    "0 &    0 & \\ldots &        0 & I\n",
    "\\end{array}\\right], \\quad \n",
    "\\tilde G = \\left[\\begin{array}{ccccc}\n",
    "0 &    0 & \\ldots &        0 & 0 \\\\\n",
    "-G_1 &    0 & \\ldots &        0 & 0 \\\\\n",
    "0 & -G_2 & \\ldots &        0 & 0 \\\\\n",
    "\\vdots & \\vdots & \\ddots & \\vdots & \\vdots \\\\\n",
    "0 &    0 & \\ldots & -G_{L-1} & 0 \\\\\n",
    "0 &    0 & \\ldots &        0 & 0\n",
    "\\end{array}\\right], \\quad\n",
    "\\tilde h = \\left[\\begin{array}{c}\n",
    "z_{\\text{init}} \\\\ h_1 \\\\ \\vdots \\\\ h_{L-1} \\\\ z_{\\text{term}}\n",
    "\\end{array}\\right],\n",
    "$$\n",
    "\n",
    "then the constraints can be written compactly as $\\tilde Fz + \\tilde Gu = \\tilde h$. Thus, the time-invariant linear quadratic control problem fits the standard form with\n",
    "\n",
    "$$f_1(x_1) = \\|x_1\\|_2^2, \\quad f_2(x_2) = \\|x_2\\|_2^2 + I_{\\{u\\,:\\,\\|u\\|_{\\infty} \\leq 1\\}}(u)$$\n",
    "$$A_1 = \\tilde F, \\quad A_2 = \\tilde G, \\quad b = \\tilde h,$$\n",
    "\n",
    "where $x_1 \\in \\mathbf{R}^{Lq}$ and $x_2 \\in \\mathbf{R}^{Lp}$. (Notice that we could also split the objective across time steps, so each $f_i$ represents the state/action cost at a particular $l$).\n",
    "\n",
    "## Generate Data\n",
    "\n",
    "TODO."
   ]
  },
  {
   "cell_type": "code",
   "execution_count": null,
   "metadata": {},
   "outputs": [],
   "source": []
  }
 ],
 "metadata": {
  "kernelspec": {
   "display_name": "Python 3",
   "language": "python",
   "name": "python3"
  },
  "language_info": {
   "codemirror_mode": {
    "name": "ipython",
    "version": 3
   },
   "file_extension": ".py",
   "mimetype": "text/x-python",
   "name": "python",
   "nbconvert_exporter": "python",
   "pygments_lexer": "ipython3",
   "version": "3.7.3"
  }
 },
 "nbformat": 4,
 "nbformat_minor": 2
}
