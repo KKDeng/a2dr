{
 "cells": [
  {
   "cell_type": "code",
   "execution_count": 1,
   "metadata": {},
   "outputs": [
    {
     "name": "stdout",
     "output_type": "stream",
     "text": [
      "/Users/junziz/Desktop/[Updated]Notes_for_Classes/SEMINARS/various_research/boyd_research/distributed_aa/cvxconsensus\n"
     ]
    }
   ],
   "source": [
    "cd ../.."
   ]
  },
  {
   "cell_type": "code",
   "execution_count": 2,
   "metadata": {},
   "outputs": [],
   "source": [
    "import cvxconsensus"
   ]
  },
  {
   "cell_type": "code",
   "execution_count": 3,
   "metadata": {},
   "outputs": [
    {
     "name": "stdout",
     "output_type": "stream",
     "text": [
      "/Users/junziz/Desktop/[Updated]Notes_for_Classes/SEMINARS/various_research/boyd_research/distributed_aa/cvxconsensus/cvxconsensus/tests\n"
     ]
    }
   ],
   "source": [
    "cd cvxconsensus/tests"
   ]
  },
  {
   "cell_type": "code",
   "execution_count": 4,
   "metadata": {},
   "outputs": [],
   "source": [
    "import test_paper"
   ]
  },
  {
   "cell_type": "code",
   "execution_count": 5,
   "metadata": {
    "scrolled": true
   },
   "outputs": [
    {
     "name": "stdout",
     "output_type": "stream",
     "text": [
      "(200, 2)\n",
      "0\n",
      "generate D, E\n",
      "compute scaled matrix\n",
      "after preconditioning, t_init changed to 0.014142135623730961\n",
      "Iteration: 0\n",
      "Iteration: 10\n",
      "Iteration: 20\n",
      "Iteration: 30\n",
      "Iteration: 40\n",
      "Iteration: 50\n",
      "Iteration: 60\n",
      "Iteration: 70\n",
      "Iteration: 80\n",
      "Iteration: 90\n",
      "Iteration: 100\n",
      "Iteration: 110\n",
      "Iteration: 120\n",
      "Iteration: 130\n",
      "Iteration: 140\n",
      "Iteration: 150\n",
      "Iteration: 160\n",
      "Iteration: 170\n",
      "Iteration: 180\n",
      "Iteration: 190\n",
      "Iteration: 200\n",
      "Iteration: 210\n",
      "Iteration: 220\n",
      "Iteration: 230\n",
      "Iteration: 240\n",
      "Iteration: 250\n",
      "Iteration: 260\n",
      "Iteration: 270\n",
      "Iteration: 280\n",
      "Iteration: 290\n",
      "Iteration: 300\n",
      "Iteration: 310\n",
      "Iteration: 320\n",
      "Iteration: 330\n",
      "Iteration: 340\n",
      "Iteration: 350\n",
      "Iteration: 360\n",
      "Iteration: 370\n",
      "Iteration: 380\n",
      "Iteration: 390\n",
      "Iteration: 400\n",
      "Iteration: 410\n",
      "Iteration: 420\n",
      "Iteration: 430\n",
      "Iteration: 440\n",
      "Iteration: 450\n",
      "Iteration: 460\n",
      "Iteration: 470\n",
      "Iteration: 480\n",
      "Iteration: 490\n",
      "Iteration: 500\n",
      "Iteration: 510\n",
      "Iteration: 520\n",
      "Iteration: 530\n",
      "Iteration: 540\n",
      "Iteration: 550\n",
      "Iteration: 560\n",
      "Iteration: 570\n",
      "Iteration: 580\n",
      "Iteration: 590\n",
      "Iteration: 600\n",
      "Iteration: 610\n",
      "Iteration: 620\n",
      "Iteration: 630\n",
      "Iteration: 640\n",
      "Iteration: 650\n",
      "Iteration: 660\n",
      "Iteration: 670\n",
      "Iteration: 680\n",
      "Iteration: 690\n",
      "Iteration: 700\n",
      "Iteration: 710\n",
      "Iteration: 720\n",
      "Iteration: 730\n",
      "Iteration: 740\n",
      "Iteration: 750\n",
      "Iteration: 760\n",
      "Iteration: 770\n",
      "Iteration: 780\n",
      "Iteration: 790\n",
      "Iteration: 800\n",
      "Iteration: 810\n",
      "Iteration: 820\n",
      "Iteration: 830\n",
      "Iteration: 840\n",
      "Iteration: 850\n",
      "Iteration: 860\n",
      "Iteration: 870\n",
      "Iteration: 880\n",
      "Iteration: 890\n",
      "Iteration: 900\n",
      "Iteration: 910\n",
      "Iteration: 920\n",
      "Iteration: 930\n",
      "Iteration: 940\n",
      "Iteration: 950\n",
      "Iteration: 960\n",
      "Iteration: 970\n",
      "Iteration: 980\n",
      "Iteration: 990\n",
      "Finish DRS.\n",
      "(200, 2)\n",
      "0\n",
      "generate D, E\n",
      "compute scaled matrix\n",
      "after preconditioning, t_init changed to 0.014142135623730961\n",
      "Iteration: 0\n",
      "Iteration: 10\n",
      "Iteration: 20\n",
      "Iteration: 30\n",
      "Iteration: 40\n",
      "Iteration: 50\n",
      "Iteration: 60\n",
      "Iteration: 70\n",
      "Iteration: 80\n",
      "Iteration: 90\n",
      "Iteration: 100\n",
      "Iteration: 110\n",
      "Iteration: 120\n",
      "Iteration: 130\n",
      "Iteration: 140\n",
      "Iteration: 150\n",
      "Iteration: 160\n",
      "Iteration: 170\n",
      "Iteration: 180\n",
      "Iteration: 190\n",
      "Iteration: 200\n",
      "Iteration: 210\n",
      "Iteration: 220\n",
      "Iteration: 230\n",
      "Iteration: 240\n",
      "Iteration: 250\n",
      "Iteration: 260\n",
      "Iteration: 270\n",
      "Iteration: 280\n",
      "Iteration: 290\n",
      "Iteration: 300\n",
      "Iteration: 310\n",
      "Iteration: 320\n",
      "Iteration: 330\n",
      "Iteration: 340\n",
      "Iteration: 350\n",
      "Iteration: 360\n",
      "Iteration: 370\n",
      "Iteration: 380\n",
      "Iteration: 390\n",
      "Iteration: 400\n",
      "Iteration: 410\n",
      "nonzero entries proportion = 0.055\n",
      "Finish A2DR.\n"
     ]
    },
    {
     "data": {
      "image/png": "[encoded data removed]",
      "text/plain": [
       "<Figure size 432x288 with 1 Axes>"
      ]
     },
     "metadata": {
      "needs_background": "light"
     },
     "output_type": "display_data"
    },
    {
     "name": "stdout",
     "output_type": "stream",
     "text": [
      "93.81575363853658 93.81575363853675\n"
     ]
    }
   ],
   "source": [
    "# NNLS\n",
    "tests = test_paper.TestPaper()\n",
    "tests.setUp()\n",
    "tests.test_nnls()"
   ]
  },
  {
   "cell_type": "code",
   "execution_count": 6,
   "metadata": {},
   "outputs": [
    {
     "ename": "KeyboardInterrupt",
     "evalue": "",
     "output_type": "error",
     "traceback": [
      "\u001b[0;31m---------------------------------------------------------------------------\u001b[0m",
      "\u001b[0;31mKeyboardInterrupt\u001b[0m                         Traceback (most recent call last)",
      "\u001b[0;32m<ipython-input-6-395b70116720>\u001b[0m in \u001b[0;36m<module>\u001b[0;34m\u001b[0m\n\u001b[1;32m      2\u001b[0m \u001b[0mtests\u001b[0m \u001b[0;34m=\u001b[0m \u001b[0mtest_paper\u001b[0m\u001b[0;34m.\u001b[0m\u001b[0mTestPaper\u001b[0m\u001b[0;34m(\u001b[0m\u001b[0;34m)\u001b[0m\u001b[0;34m\u001b[0m\u001b[0;34m\u001b[0m\u001b[0m\n\u001b[1;32m      3\u001b[0m \u001b[0mtests\u001b[0m\u001b[0;34m.\u001b[0m\u001b[0msetUp\u001b[0m\u001b[0;34m(\u001b[0m\u001b[0;34m)\u001b[0m\u001b[0;34m\u001b[0m\u001b[0;34m\u001b[0m\u001b[0m\n\u001b[0;32m----> 4\u001b[0;31m \u001b[0mtests\u001b[0m\u001b[0;34m.\u001b[0m\u001b[0mtest_nnls_reg\u001b[0m\u001b[0;34m(\u001b[0m\u001b[0;34m)\u001b[0m\u001b[0;34m\u001b[0m\u001b[0;34m\u001b[0m\u001b[0m\n\u001b[0m",
      "\u001b[0;32m~/Desktop/[Updated]Notes_for_Classes/SEMINARS/various_research/boyd_research/distributed_aa/cvxconsensus/cvxconsensus/tests/test_paper.py\u001b[0m in \u001b[0;36mtest_nnls_reg\u001b[0;34m(self)\u001b[0m\n\u001b[1;32m    145\u001b[0m \u001b[0;34m\u001b[0m\u001b[0m\n\u001b[1;32m    146\u001b[0m         \u001b[0;31m# Solve with no regularization.\u001b[0m\u001b[0;34m\u001b[0m\u001b[0;34m\u001b[0m\u001b[0;34m\u001b[0m\u001b[0m\n\u001b[0;32m--> 147\u001b[0;31m         \u001b[0ma2dr_noreg_result\u001b[0m \u001b[0;34m=\u001b[0m \u001b[0ma2dr\u001b[0m\u001b[0;34m(\u001b[0m\u001b[0mprox_list\u001b[0m\u001b[0;34m,\u001b[0m \u001b[0mA_list\u001b[0m\u001b[0;34m,\u001b[0m \u001b[0mb\u001b[0m\u001b[0;34m,\u001b[0m \u001b[0manderson\u001b[0m\u001b[0;34m=\u001b[0m\u001b[0;32mTrue\u001b[0m\u001b[0;34m,\u001b[0m \u001b[0mprecond\u001b[0m\u001b[0;34m=\u001b[0m\u001b[0;32mTrue\u001b[0m\u001b[0;34m,\u001b[0m \u001b[0mlam_accel\u001b[0m\u001b[0;34m=\u001b[0m\u001b[0;36m0\u001b[0m\u001b[0;34m)\u001b[0m\u001b[0;34m\u001b[0m\u001b[0;34m\u001b[0m\u001b[0m\n\u001b[0m\u001b[1;32m    148\u001b[0m         \u001b[0mprint\u001b[0m\u001b[0;34m(\u001b[0m\u001b[0;34m'Finish A2DR no regularization.'\u001b[0m\u001b[0;34m)\u001b[0m\u001b[0;34m\u001b[0m\u001b[0;34m\u001b[0m\u001b[0m\n\u001b[1;32m    149\u001b[0m \u001b[0;34m\u001b[0m\u001b[0m\n",
      "\u001b[0;32m~/Desktop/[Updated]Notes_for_Classes/SEMINARS/various_research/boyd_research/distributed_aa/cvxconsensus/cvxconsensus/solver.py\u001b[0m in \u001b[0;36ma2dr\u001b[0;34m(p_list, A_list, b, v_init, *args, **kwargs)\u001b[0m\n\u001b[1;32m    161\u001b[0m     \u001b[0;31m# Precondition data.\u001b[0m\u001b[0;34m\u001b[0m\u001b[0;34m\u001b[0m\u001b[0;34m\u001b[0m\u001b[0m\n\u001b[1;32m    162\u001b[0m     \u001b[0;32mif\u001b[0m \u001b[0mprecond\u001b[0m\u001b[0;34m:\u001b[0m\u001b[0;34m\u001b[0m\u001b[0;34m\u001b[0m\u001b[0m\n\u001b[0;32m--> 163\u001b[0;31m         \u001b[0mp_list\u001b[0m\u001b[0;34m,\u001b[0m \u001b[0mA_list\u001b[0m\u001b[0;34m,\u001b[0m \u001b[0mb\u001b[0m\u001b[0;34m,\u001b[0m \u001b[0me_pre\u001b[0m \u001b[0;34m=\u001b[0m \u001b[0mprecondition\u001b[0m\u001b[0;34m(\u001b[0m\u001b[0mp_list\u001b[0m\u001b[0;34m,\u001b[0m \u001b[0mA_list\u001b[0m\u001b[0;34m,\u001b[0m \u001b[0mb\u001b[0m\u001b[0;34m)\u001b[0m\u001b[0;34m\u001b[0m\u001b[0;34m\u001b[0m\u001b[0m\n\u001b[0m\u001b[1;32m    164\u001b[0m         \u001b[0mt_init\u001b[0m \u001b[0;34m=\u001b[0m \u001b[0;36m1\u001b[0m\u001b[0;34m/\u001b[0m\u001b[0mgmean\u001b[0m\u001b[0;34m(\u001b[0m\u001b[0me_pre\u001b[0m\u001b[0;34m)\u001b[0m\u001b[0;34m**\u001b[0m\u001b[0;36m2\u001b[0m\u001b[0;34m/\u001b[0m\u001b[0;36m1000\u001b[0m\u001b[0;34m\u001b[0m\u001b[0;34m\u001b[0m\u001b[0m\n\u001b[1;32m    165\u001b[0m         \u001b[0mprint\u001b[0m\u001b[0;34m(\u001b[0m\u001b[0;34m'after preconditioning, t_init changed to {}'\u001b[0m\u001b[0;34m.\u001b[0m\u001b[0mformat\u001b[0m\u001b[0;34m(\u001b[0m\u001b[0mt_init\u001b[0m\u001b[0;34m)\u001b[0m\u001b[0;34m)\u001b[0m\u001b[0;34m\u001b[0m\u001b[0;34m\u001b[0m\u001b[0m\n",
      "\u001b[0;32m~/Desktop/[Updated]Notes_for_Classes/SEMINARS/various_research/boyd_research/distributed_aa/cvxconsensus/cvxconsensus/precondition.py\u001b[0m in \u001b[0;36mprecondition\u001b[0;34m(p_list, A_list, b, tol, max_iter)\u001b[0m\n\u001b[1;32m      6\u001b[0m     \u001b[0mn_list\u001b[0m \u001b[0;34m=\u001b[0m \u001b[0;34m[\u001b[0m\u001b[0mA\u001b[0m\u001b[0;34m.\u001b[0m\u001b[0mshape\u001b[0m\u001b[0;34m[\u001b[0m\u001b[0;36m1\u001b[0m\u001b[0;34m]\u001b[0m \u001b[0;32mfor\u001b[0m \u001b[0mA\u001b[0m \u001b[0;32min\u001b[0m \u001b[0mA_list\u001b[0m\u001b[0;34m]\u001b[0m\u001b[0;34m\u001b[0m\u001b[0;34m\u001b[0m\u001b[0m\n\u001b[1;32m      7\u001b[0m     \u001b[0mA_list_dense\u001b[0m \u001b[0;34m=\u001b[0m \u001b[0;34m[\u001b[0m\u001b[0;34m(\u001b[0m\u001b[0mA_list\u001b[0m\u001b[0;34m[\u001b[0m\u001b[0mi\u001b[0m\u001b[0;34m]\u001b[0m\u001b[0;34m.\u001b[0m\u001b[0mtodense\u001b[0m\u001b[0;34m(\u001b[0m\u001b[0;34m)\u001b[0m \u001b[0;32mif\u001b[0m \u001b[0missparse\u001b[0m\u001b[0;34m(\u001b[0m\u001b[0mA_list\u001b[0m\u001b[0;34m[\u001b[0m\u001b[0mi\u001b[0m\u001b[0;34m]\u001b[0m\u001b[0;34m)\u001b[0m \u001b[0;32melse\u001b[0m \u001b[0mA_list\u001b[0m\u001b[0;34m[\u001b[0m\u001b[0mi\u001b[0m\u001b[0;34m]\u001b[0m\u001b[0;34m)\u001b[0m \u001b[0;32mfor\u001b[0m \u001b[0mi\u001b[0m \u001b[0;32min\u001b[0m \u001b[0mrange\u001b[0m\u001b[0;34m(\u001b[0m\u001b[0mlen\u001b[0m\u001b[0;34m(\u001b[0m\u001b[0mA_list\u001b[0m\u001b[0;34m)\u001b[0m\u001b[0;34m)\u001b[0m\u001b[0;34m]\u001b[0m\u001b[0;34m\u001b[0m\u001b[0;34m\u001b[0m\u001b[0m\n\u001b[0;32m----> 8\u001b[0;31m     \u001b[0mA\u001b[0m \u001b[0;34m=\u001b[0m \u001b[0mnp\u001b[0m\u001b[0;34m.\u001b[0m\u001b[0marray\u001b[0m\u001b[0;34m(\u001b[0m\u001b[0mnp\u001b[0m\u001b[0;34m.\u001b[0m\u001b[0mhstack\u001b[0m\u001b[0;34m(\u001b[0m\u001b[0mA_list_dense\u001b[0m\u001b[0;34m)\u001b[0m\u001b[0;34m)\u001b[0m\u001b[0;34m\u001b[0m\u001b[0;34m\u001b[0m\u001b[0m\n\u001b[0m\u001b[1;32m      9\u001b[0m     \u001b[0md\u001b[0m\u001b[0;34m,\u001b[0m \u001b[0me\u001b[0m\u001b[0;34m,\u001b[0m \u001b[0mA_hat\u001b[0m\u001b[0;34m,\u001b[0m \u001b[0mk\u001b[0m \u001b[0;34m=\u001b[0m \u001b[0mmat_equil\u001b[0m\u001b[0;34m(\u001b[0m\u001b[0mA\u001b[0m\u001b[0;34m,\u001b[0m \u001b[0mn_list\u001b[0m\u001b[0;34m,\u001b[0m \u001b[0mtol\u001b[0m\u001b[0;34m,\u001b[0m \u001b[0mmax_iter\u001b[0m\u001b[0;34m)\u001b[0m\u001b[0;34m\u001b[0m\u001b[0;34m\u001b[0m\u001b[0m\n\u001b[1;32m     10\u001b[0m \u001b[0;34m\u001b[0m\u001b[0m\n",
      "\u001b[0;32m//anaconda/envs/MHP_MLE_OPT/lib/python3.6/site-packages/numpy/core/shape_base.py\u001b[0m in \u001b[0;36mhstack\u001b[0;34m(tup)\u001b[0m\n\u001b[1;32m    338\u001b[0m         \u001b[0;32mreturn\u001b[0m \u001b[0m_nx\u001b[0m\u001b[0;34m.\u001b[0m\u001b[0mconcatenate\u001b[0m\u001b[0;34m(\u001b[0m\u001b[0marrs\u001b[0m\u001b[0;34m,\u001b[0m \u001b[0;36m0\u001b[0m\u001b[0;34m)\u001b[0m\u001b[0;34m\u001b[0m\u001b[0;34m\u001b[0m\u001b[0m\n\u001b[1;32m    339\u001b[0m     \u001b[0;32melse\u001b[0m\u001b[0;34m:\u001b[0m\u001b[0;34m\u001b[0m\u001b[0;34m\u001b[0m\u001b[0m\n\u001b[0;32m--> 340\u001b[0;31m         \u001b[0;32mreturn\u001b[0m \u001b[0m_nx\u001b[0m\u001b[0;34m.\u001b[0m\u001b[0mconcatenate\u001b[0m\u001b[0;34m(\u001b[0m\u001b[0marrs\u001b[0m\u001b[0;34m,\u001b[0m \u001b[0;36m1\u001b[0m\u001b[0;34m)\u001b[0m\u001b[0;34m\u001b[0m\u001b[0;34m\u001b[0m\u001b[0m\n\u001b[0m\u001b[1;32m    341\u001b[0m \u001b[0;34m\u001b[0m\u001b[0m\n\u001b[1;32m    342\u001b[0m \u001b[0;34m\u001b[0m\u001b[0m\n",
      "\u001b[0;31mKeyboardInterrupt\u001b[0m: "
     ]
    }
   ],
   "source": [
    "# NNLS: regularization effect\n",
    "tests = test_paper.TestPaper()\n",
    "tests.setUp()\n",
    "tests.test_nnls_reg()"
   ]
  },
  {
   "cell_type": "code",
   "execution_count": 5,
   "metadata": {},
   "outputs": [
    {
     "name": "stdout",
     "output_type": "stream",
     "text": [
      "1.0\n",
      "Iteration: 0\n",
      "Iteration: 10\n",
      "Iteration: 20\n",
      "Iteration: 30\n",
      "Iteration: 40\n",
      "Iteration: 50\n",
      "Iteration: 60\n",
      "Iteration: 70\n",
      "Iteration: 80\n",
      "Iteration: 90\n",
      "Iteration: 100\n",
      "Iteration: 110\n",
      "Iteration: 120\n",
      "Iteration: 130\n",
      "Iteration: 140\n",
      "Iteration: 150\n",
      "Iteration: 160\n",
      "Iteration: 170\n",
      "Iteration: 180\n",
      "Iteration: 190\n",
      "Iteration: 200\n",
      "Iteration: 210\n",
      "Iteration: 220\n",
      "Iteration: 230\n",
      "Iteration: 240\n",
      "Iteration: 250\n",
      "Iteration: 260\n",
      "Iteration: 270\n",
      "Iteration: 280\n",
      "Iteration: 290\n",
      "Iteration: 300\n",
      "Iteration: 310\n",
      "Iteration: 320\n",
      "Iteration: 330\n",
      "Iteration: 340\n",
      "Iteration: 350\n",
      "Iteration: 360\n",
      "Iteration: 370\n",
      "Iteration: 380\n",
      "Iteration: 390\n",
      "Iteration: 400\n",
      "Iteration: 410\n",
      "Iteration: 420\n",
      "Iteration: 430\n",
      "Iteration: 440\n",
      "Iteration: 450\n",
      "Iteration: 460\n",
      "Iteration: 470\n",
      "Iteration: 480\n",
      "Iteration: 490\n",
      "Iteration: 500\n",
      "Iteration: 510\n",
      "Iteration: 520\n",
      "Iteration: 530\n",
      "Iteration: 540\n",
      "Iteration: 550\n",
      "Iteration: 560\n",
      "Iteration: 570\n",
      "Iteration: 580\n",
      "Iteration: 590\n",
      "Iteration: 600\n",
      "Iteration: 610\n",
      "Iteration: 620\n",
      "Iteration: 630\n",
      "Iteration: 640\n",
      "Iteration: 650\n",
      "Iteration: 660\n",
      "Iteration: 670\n",
      "Iteration: 680\n",
      "Iteration: 690\n",
      "Iteration: 700\n",
      "Iteration: 710\n",
      "Iteration: 720\n",
      "Iteration: 730\n",
      "Iteration: 740\n",
      "Iteration: 750\n",
      "Iteration: 760\n",
      "Iteration: 770\n",
      "Iteration: 780\n",
      "Iteration: 790\n",
      "Iteration: 800\n",
      "Iteration: 810\n",
      "Iteration: 820\n",
      "Iteration: 830\n",
      "Iteration: 840\n",
      "Iteration: 850\n",
      "Iteration: 860\n",
      "Iteration: 870\n",
      "Iteration: 880\n",
      "Iteration: 890\n",
      "Iteration: 900\n",
      "Iteration: 910\n",
      "Iteration: 920\n",
      "Iteration: 930\n",
      "Iteration: 940\n",
      "Iteration: 950\n",
      "Iteration: 960\n",
      "Iteration: 970\n",
      "Iteration: 980\n",
      "Iteration: 990\n",
      "Finished DRS.\n",
      "Iteration: 0\n",
      "Iteration: 10\n",
      "Iteration: 20\n",
      "Iteration: 30\n",
      "Iteration: 40\n",
      "Iteration: 50\n",
      "Iteration: 60\n",
      "Iteration: 70\n",
      "Iteration: 80\n",
      "Iteration: 90\n",
      "Iteration: 100\n",
      "Iteration: 110\n",
      "Iteration: 120\n",
      "Iteration: 130\n",
      "Iteration: 140\n",
      "Iteration: 150\n",
      "Iteration: 160\n",
      "Iteration: 170\n",
      "Iteration: 180\n",
      "Iteration: 190\n",
      "Iteration: 200\n",
      "Iteration: 210\n",
      "Iteration: 220\n",
      "Iteration: 230\n",
      "Iteration: 240\n",
      "Iteration: 250\n",
      "Iteration: 260\n",
      "Iteration: 270\n",
      "Iteration: 280\n",
      "Iteration: 290\n",
      "Iteration: 300\n",
      "Iteration: 310\n",
      "Iteration: 320\n",
      "Iteration: 330\n",
      "Iteration: 340\n",
      "Iteration: 350\n",
      "Iteration: 360\n",
      "Iteration: 370\n",
      "Iteration: 380\n",
      "Iteration: 390\n",
      "Iteration: 400\n",
      "Iteration: 410\n",
      "Iteration: 420\n",
      "Iteration: 430\n",
      "Iteration: 440\n",
      "Iteration: 450\n",
      "Iteration: 460\n",
      "Iteration: 470\n",
      "Iteration: 480\n",
      "Iteration: 490\n",
      "Iteration: 500\n",
      "Iteration: 510\n",
      "Iteration: 520\n",
      "Iteration: 530\n",
      "Iteration: 540\n",
      "Iteration: 550\n",
      "Iteration: 560\n",
      "Iteration: 570\n",
      "Iteration: 580\n",
      "Iteration: 590\n",
      "Iteration: 600\n",
      "Iteration: 610\n",
      "Iteration: 620\n",
      "Iteration: 630\n",
      "Iteration: 640\n",
      "Iteration: 650\n",
      "Iteration: 660\n",
      "Iteration: 670\n",
      "Iteration: 680\n",
      "Iteration: 690\n",
      "Iteration: 700\n",
      "Iteration: 710\n",
      "Iteration: 720\n",
      "Iteration: 730\n",
      "Iteration: 740\n",
      "Iteration: 750\n",
      "Iteration: 760\n",
      "Iteration: 770\n",
      "Iteration: 780\n",
      "Iteration: 790\n",
      "Iteration: 800\n",
      "Iteration: 810\n",
      "Iteration: 820\n",
      "Iteration: 830\n",
      "Iteration: 840\n",
      "Iteration: 850\n",
      "Iteration: 860\n",
      "Iteration: 870\n",
      "Iteration: 880\n",
      "Iteration: 890\n",
      "Iteration: 900\n",
      "Iteration: 910\n",
      "Iteration: 920\n",
      "Iteration: 930\n",
      "Iteration: 940\n",
      "Iteration: 950\n",
      "Iteration: 960\n",
      "Iteration: 970\n",
      "Iteration: 980\n",
      "Iteration: 990\n"
     ]
    },
    {
     "data": {
      "image/png": "[encoded data removed]",
      "text/plain": [
       "<Figure size 432x288 with 1 Axes>"
      ]
     },
     "metadata": {
      "needs_background": "light"
     },
     "output_type": "display_data"
    },
    {
     "name": "stdout",
     "output_type": "stream",
     "text": [
      "Finished A2DR.\n",
      "6.550088627130158 6.550088627130157 6.550088627130173\n",
      "constraint violation = 2.335498984268684e-14\n",
      "constraint violation 2 = 2.3358675078385003e-14\n",
      "1.0\n"
     ]
    }
   ],
   "source": [
    "# l1 Trend Filtering\n",
    "tests = test_paper.TestPaper()\n",
    "tests.setUp()\n",
    "tests.test_l1_trend_filtering()"
   ]
  },
  {
   "cell_type": "code",
   "execution_count": 10,
   "metadata": {},
   "outputs": [
    {
     "name": "stdout",
     "output_type": "stream",
     "text": [
      "[[ 1. -2.  1.  0.  0.  0.]\n",
      " [ 0.  1. -2.  1.  0.  0.]\n",
      " [ 0.  0.  1. -2.  1.  0.]\n",
      " [ 0.  0.  0.  1. -2.  1.]]\n",
      "0.0\n"
     ]
    }
   ],
   "source": [
    "from scipy import sparse\n",
    "import numpy as np\n",
    "n = 6\n",
    "D = sparse.lil_matrix(sparse.eye(n))\n",
    "D.setdiag(-2, k = 1)\n",
    "D.setdiag(1, k = 2)\n",
    "D = D[:(n-2),:]\n",
    "print(D.todense())\n",
    "x = np.random.randn(n)\n",
    "print(np.linalg.norm(np.diff(x,2) - D.dot(x)))"
   ]
  },
  {
   "cell_type": "code",
   "execution_count": 5,
   "metadata": {
    "scrolled": true
   },
   "outputs": [
    {
     "name": "stdout",
     "output_type": "stream",
     "text": [
      "(900, 2)\n",
      "0\n",
      "generate D, E\n",
      "compute scaled matrix\n",
      "after preconditioning, t_init changed to 0.030000000000000006\n",
      "Iteration: 0\n",
      "Iteration: 10\n",
      "Iteration: 20\n",
      "Iteration: 30\n",
      "Iteration: 40\n",
      "Iteration: 50\n",
      "Iteration: 60\n",
      "Iteration: 70\n",
      "Iteration: 80\n",
      "Iteration: 90\n",
      "Iteration: 100\n",
      "Iteration: 110\n",
      "Iteration: 120\n",
      "Iteration: 130\n",
      "Iteration: 140\n",
      "Iteration: 150\n",
      "Iteration: 160\n",
      "Iteration: 170\n",
      "Iteration: 180\n",
      "Iteration: 190\n",
      "Iteration: 200\n",
      "Iteration: 210\n",
      "Iteration: 220\n",
      "Iteration: 230\n",
      "Iteration: 240\n",
      "Iteration: 250\n",
      "Iteration: 260\n",
      "Iteration: 270\n",
      "Iteration: 280\n",
      "Iteration: 290\n",
      "Iteration: 300\n",
      "Iteration: 310\n",
      "Iteration: 320\n",
      "Iteration: 330\n",
      "Iteration: 340\n",
      "Iteration: 350\n",
      "Iteration: 360\n",
      "Iteration: 370\n",
      "Iteration: 380\n",
      "Iteration: 390\n",
      "Iteration: 400\n",
      "Iteration: 410\n",
      "Iteration: 420\n",
      "Iteration: 430\n",
      "Iteration: 440\n",
      "Finished DRS.\n",
      "(900, 2)\n",
      "0\n",
      "generate D, E\n",
      "compute scaled matrix\n",
      "after preconditioning, t_init changed to 0.030000000000000006\n",
      "Iteration: 0\n",
      "Iteration: 10\n",
      "Iteration: 20\n",
      "Iteration: 30\n",
      "Iteration: 40\n",
      "Iteration: 50\n",
      "Iteration: 60\n",
      "Iteration: 70\n",
      "Iteration: 80\n",
      "Iteration: 90\n"
     ]
    },
    {
     "data": {
      "image/png": "[encoded data removed]",
      "text/plain": [
       "<Figure size 432x288 with 1 Axes>"
      ]
     },
     "metadata": {
      "needs_background": "light"
     },
     "output_type": "display_data"
    },
    {
     "name": "stdout",
     "output_type": "stream",
     "text": [
      "Finished A2DR.\n",
      "recovered sparsity = 1.0\n",
      "59.6519328307308 59.65195166533729\n"
     ]
    }
   ],
   "source": [
    "# Sparse Inverse Covariance Estimation\n",
    "tests = test_paper.TestPaper()\n",
    "tests.setUp()\n",
    "tests.test_sparse_inv_covariance()"
   ]
  },
  {
   "cell_type": "code",
   "execution_count": 16,
   "metadata": {},
   "outputs": [
    {
     "name": "stdout",
     "output_type": "stream",
     "text": [
      "CVXPY Objective: 76.83505992241325\n",
      "DRS Objective: 76.8356141626509\n"
     ]
    },
    {
     "ename": "AssertionError",
     "evalue": "76.83505992241325 != 76.8356141626509 within 4 places",
     "output_type": "error",
     "traceback": [
      "\u001b[0;31m---------------------------------------------------------------------------\u001b[0m",
      "\u001b[0;31mAssertionError\u001b[0m                            Traceback (most recent call last)",
      "\u001b[0;32m<ipython-input-16-532457f274ab>\u001b[0m in \u001b[0;36m<module>\u001b[0;34m\u001b[0m\n\u001b[1;32m      2\u001b[0m \u001b[0mtests\u001b[0m \u001b[0;34m=\u001b[0m \u001b[0mtest_solver\u001b[0m\u001b[0;34m.\u001b[0m\u001b[0mTestSolver\u001b[0m\u001b[0;34m(\u001b[0m\u001b[0;34m)\u001b[0m\u001b[0;34m\u001b[0m\u001b[0;34m\u001b[0m\u001b[0m\n\u001b[1;32m      3\u001b[0m \u001b[0mtests\u001b[0m\u001b[0;34m.\u001b[0m\u001b[0msetUp\u001b[0m\u001b[0;34m(\u001b[0m\u001b[0;34m)\u001b[0m\u001b[0;34m\u001b[0m\u001b[0;34m\u001b[0m\u001b[0m\n\u001b[0;32m----> 4\u001b[0;31m \u001b[0mtests\u001b[0m\u001b[0;34m.\u001b[0m\u001b[0mtest_optimal_control\u001b[0m\u001b[0;34m(\u001b[0m\u001b[0;34m)\u001b[0m\u001b[0;34m\u001b[0m\u001b[0;34m\u001b[0m\u001b[0m\n\u001b[0m",
      "\u001b[0;32m~/Desktop/[Updated]Notes_for_Classes/SEMINARS/various_research/boyd_research/distributed_aa/cvxconsensus/cvxconsensus/tests/test_solver.py\u001b[0m in \u001b[0;36mtest_optimal_control\u001b[0;34m(self)\u001b[0m\n\u001b[1;32m    607\u001b[0m         \u001b[0mdrs_obj\u001b[0m \u001b[0;34m=\u001b[0m \u001b[0mcalc_obj\u001b[0m\u001b[0;34m(\u001b[0m\u001b[0mdrs_z\u001b[0m\u001b[0;34m)\u001b[0m\u001b[0;34m\u001b[0m\u001b[0;34m\u001b[0m\u001b[0m\n\u001b[1;32m    608\u001b[0m         \u001b[0mprint\u001b[0m\u001b[0;34m(\u001b[0m\u001b[0;34m\"DRS Objective:\"\u001b[0m\u001b[0;34m,\u001b[0m \u001b[0mdrs_obj\u001b[0m\u001b[0;34m)\u001b[0m\u001b[0;34m\u001b[0m\u001b[0;34m\u001b[0m\u001b[0m\n\u001b[0;32m--> 609\u001b[0;31m         \u001b[0mself\u001b[0m\u001b[0;34m.\u001b[0m\u001b[0massertAlmostEqual\u001b[0m\u001b[0;34m(\u001b[0m\u001b[0mcvxpy_obj\u001b[0m\u001b[0;34m,\u001b[0m \u001b[0mdrs_obj\u001b[0m\u001b[0;34m)\u001b[0m\u001b[0;34m\u001b[0m\u001b[0;34m\u001b[0m\u001b[0m\n\u001b[0m\u001b[1;32m    610\u001b[0m         \u001b[0mself\u001b[0m\u001b[0;34m.\u001b[0m\u001b[0massertItemsAlmostEqual\u001b[0m\u001b[0;34m(\u001b[0m\u001b[0mcvxpy_x\u001b[0m\u001b[0;34m,\u001b[0m \u001b[0mdrs_x\u001b[0m\u001b[0;34m)\u001b[0m\u001b[0;34m\u001b[0m\u001b[0;34m\u001b[0m\u001b[0m\n\u001b[1;32m    611\u001b[0m         \u001b[0mself\u001b[0m\u001b[0;34m.\u001b[0m\u001b[0massertItemsAlmostEqual\u001b[0m\u001b[0;34m(\u001b[0m\u001b[0mcvxpy_u\u001b[0m\u001b[0;34m,\u001b[0m \u001b[0mdrs_u\u001b[0m\u001b[0;34m)\u001b[0m\u001b[0;34m\u001b[0m\u001b[0;34m\u001b[0m\u001b[0m\n",
      "\u001b[0;32m~/Desktop/[Updated]Notes_for_Classes/SEMINARS/various_research/boyd_research/distributed_aa/cvxconsensus/cvxconsensus/tests/base_test.py\u001b[0m in \u001b[0;36massertAlmostEqual\u001b[0;34m(self, a, b, places)\u001b[0m\n\u001b[1;32m     40\u001b[0m     \u001b[0;31m# Overriden method to assume lower accuracy.\u001b[0m\u001b[0;34m\u001b[0m\u001b[0;34m\u001b[0m\u001b[0;34m\u001b[0m\u001b[0m\n\u001b[1;32m     41\u001b[0m     \u001b[0;32mdef\u001b[0m \u001b[0massertAlmostEqual\u001b[0m\u001b[0;34m(\u001b[0m\u001b[0mself\u001b[0m\u001b[0;34m,\u001b[0m \u001b[0ma\u001b[0m\u001b[0;34m,\u001b[0m \u001b[0mb\u001b[0m\u001b[0;34m,\u001b[0m \u001b[0mplaces\u001b[0m\u001b[0;34m=\u001b[0m\u001b[0;36m4\u001b[0m\u001b[0;34m)\u001b[0m\u001b[0;34m:\u001b[0m\u001b[0;34m\u001b[0m\u001b[0;34m\u001b[0m\u001b[0m\n\u001b[0;32m---> 42\u001b[0;31m         \u001b[0msuper\u001b[0m\u001b[0;34m(\u001b[0m\u001b[0mBaseTest\u001b[0m\u001b[0;34m,\u001b[0m \u001b[0mself\u001b[0m\u001b[0;34m)\u001b[0m\u001b[0;34m.\u001b[0m\u001b[0massertAlmostEqual\u001b[0m\u001b[0;34m(\u001b[0m\u001b[0ma\u001b[0m\u001b[0;34m,\u001b[0m \u001b[0mb\u001b[0m\u001b[0;34m,\u001b[0m \u001b[0mplaces\u001b[0m\u001b[0;34m=\u001b[0m\u001b[0mplaces\u001b[0m\u001b[0;34m)\u001b[0m\u001b[0;34m\u001b[0m\u001b[0;34m\u001b[0m\u001b[0m\n\u001b[0m\u001b[1;32m     43\u001b[0m \u001b[0;34m\u001b[0m\u001b[0m\n\u001b[1;32m     44\u001b[0m     \u001b[0;32mdef\u001b[0m \u001b[0mmat_to_list\u001b[0m\u001b[0;34m(\u001b[0m\u001b[0mself\u001b[0m\u001b[0;34m,\u001b[0m \u001b[0mmat\u001b[0m\u001b[0;34m)\u001b[0m\u001b[0;34m:\u001b[0m\u001b[0;34m\u001b[0m\u001b[0;34m\u001b[0m\u001b[0m\n",
      "\u001b[0;32m//anaconda/envs/MHP_MLE_OPT/lib/python3.6/unittest/case.py\u001b[0m in \u001b[0;36massertAlmostEqual\u001b[0;34m(self, first, second, places, msg, delta)\u001b[0m\n\u001b[1;32m    876\u001b[0m                                                           places)\n\u001b[1;32m    877\u001b[0m         \u001b[0mmsg\u001b[0m \u001b[0;34m=\u001b[0m \u001b[0mself\u001b[0m\u001b[0;34m.\u001b[0m\u001b[0m_formatMessage\u001b[0m\u001b[0;34m(\u001b[0m\u001b[0mmsg\u001b[0m\u001b[0;34m,\u001b[0m \u001b[0mstandardMsg\u001b[0m\u001b[0;34m)\u001b[0m\u001b[0;34m\u001b[0m\u001b[0;34m\u001b[0m\u001b[0m\n\u001b[0;32m--> 878\u001b[0;31m         \u001b[0;32mraise\u001b[0m \u001b[0mself\u001b[0m\u001b[0;34m.\u001b[0m\u001b[0mfailureException\u001b[0m\u001b[0;34m(\u001b[0m\u001b[0mmsg\u001b[0m\u001b[0;34m)\u001b[0m\u001b[0;34m\u001b[0m\u001b[0;34m\u001b[0m\u001b[0m\n\u001b[0m\u001b[1;32m    879\u001b[0m \u001b[0;34m\u001b[0m\u001b[0m\n\u001b[1;32m    880\u001b[0m     def assertNotAlmostEqual(self, first, second, places=None, msg=None,\n",
      "\u001b[0;31mAssertionError\u001b[0m: 76.83505992241325 != 76.8356141626509 within 4 places"
     ]
    }
   ],
   "source": [
    "# Optimal Control\n",
    "tests = test_solver.TestSolver()\n",
    "tests.setUp()\n",
    "tests.test_optimal_control()"
   ]
  },
  {
   "cell_type": "code",
   "execution_count": null,
   "metadata": {},
   "outputs": [],
   "source": [
    "# Coupled QP"
   ]
  },
  {
   "cell_type": "code",
   "execution_count": 15,
   "metadata": {},
   "outputs": [
    {
     "name": "stdout",
     "output_type": "stream",
     "text": [
      "CVXPY Objective: 2.6208170983821573\n",
      "DRS Objective: 2.6208166553063315\n"
     ]
    },
    {
     "data": {
      "image/png": "[encoded data removed]",
      "text/plain": [
       "<Figure size 432x288 with 1 Axes>"
      ]
     },
     "metadata": {
      "needs_background": "light"
     },
     "output_type": "display_data"
    },
    {
     "name": "stdout",
     "output_type": "stream",
     "text": [
      "A2DR Objective: 2.620816887645815\n"
     ]
    },
    {
     "data": {
      "image/png": "[encoded data removed]",
      "text/plain": [
       "<Figure size 432x288 with 1 Axes>"
      ]
     },
     "metadata": {
      "needs_background": "light"
     },
     "output_type": "display_data"
    },
    {
     "data": {
      "image/png": "[encoded data removed]",
      "text/plain": [
       "<Figure size 432x288 with 1 Axes>"
      ]
     },
     "metadata": {
      "needs_background": "light"
     },
     "output_type": "display_data"
    }
   ],
   "source": [
    "# Single Commodity Flow\n",
    "tests = test_solver.TestSolver()\n",
    "tests.setUp()\n",
    "tests.test_single_commodity_flow()"
   ]
  },
  {
   "cell_type": "code",
   "execution_count": 5,
   "metadata": {},
   "outputs": [
    {
     "name": "stdout",
     "output_type": "stream",
     "text": [
      "CVXPY finished.\n",
      "\n",
      "ECOS 2.0.4 - (C) embotech GmbH, Zurich Switzerland, 2012-15. Web: www.embotech.com/ECOS\n",
      "\n",
      "It     pcost       dcost      gap   pres   dres    k/t    mu     step   sigma     IR    |   BT\n",
      " 0  +2.793e-15  -7.763e-03  +4e+03  7e-01  1e-04  1e+00  5e+02    ---    ---    1  1  - |  -  - \n",
      " 1  +7.487e-01  +7.971e-01  +2e+02  4e-02  7e-06  1e-01  4e+01  0.9335  1e-04   1  2  2 |  0  0\n",
      " 2  +2.948e-02  +1.049e+00  +2e+01  2e-03  6e-07  1e+00  3e+00  0.9404  3e-02   2  2  2 |  0  0\n",
      " 3  +4.492e-01  +1.009e+00  +4e+00  5e-04  1e-07  6e-01  7e-01  0.9187  2e-01   2  2  2 |  0  0\n",
      " 4  +1.980e+00  +2.098e+00  +9e-01  1e-04  3e-08  1e-01  1e-01  0.8124  2e-02   2  3  3 |  0  0\n",
      " 5  +2.275e+00  +2.282e+00  +5e-02  7e-06  1e-09  7e-03  8e-03  0.9863  4e-02   1  2  2 |  0  0\n",
      " 6  +2.302e+00  +2.302e+00  +2e-03  4e-07  8e-11  4e-04  4e-04  0.9494  4e-04   1  2  2 |  0  0\n",
      " 7  +2.303e+00  +2.303e+00  +4e-05  7e-09  1e-12  7e-06  7e-06  0.9890  7e-03   1  1  1 |  0  0\n",
      " 8  +2.303e+00  +2.303e+00  +6e-07  9e-11  2e-14  9e-08  9e-08  0.9866  1e-04   1  1  1 |  0  0\n",
      " 9  +2.303e+00  +2.303e+00  +6e-09  1e-12  2e-16  1e-09  1e-09  0.9890  1e-04   1  1  1 |  0  0\n",
      "\n",
      "OPTIMAL (within feastol=1.0e-12, reltol=2.7e-09, abstol=6.3e-09).\n",
      "Runtime: 0.001282 seconds.\n",
      "\n",
      "check group lasso prox correctness = 2.457247202878812e-07\n",
      "(200, 3)\n",
      "0\n",
      "1\n",
      "2\n",
      "3\n",
      "4\n",
      "generate D, E\n",
      "compute scaled matrix\n",
      "after preconditioning, t_init changed to 0.015479657689722075\n",
      "Iteration: 0\n",
      "Iteration: 10\n",
      "Iteration: 20\n",
      "Iteration: 30\n",
      "Iteration: 40\n",
      "Iteration: 50\n",
      "Iteration: 60\n",
      "Iteration: 70\n",
      "Iteration: 80\n",
      "Iteration: 90\n",
      "Iteration: 100\n",
      "Iteration: 110\n",
      "Iteration: 120\n",
      "Iteration: 130\n",
      "Iteration: 140\n",
      "Iteration: 150\n",
      "Iteration: 160\n",
      "Iteration: 170\n",
      "Iteration: 180\n",
      "Iteration: 190\n",
      "Iteration: 200\n",
      "Iteration: 210\n",
      "Iteration: 220\n",
      "Iteration: 230\n",
      "Iteration: 240\n",
      "Iteration: 250\n",
      "Iteration: 260\n",
      "Iteration: 270\n",
      "Iteration: 280\n",
      "Iteration: 290\n",
      "Iteration: 300\n",
      "Iteration: 310\n",
      "Iteration: 320\n",
      "Iteration: 330\n",
      "Iteration: 340\n",
      "Iteration: 350\n",
      "Iteration: 360\n",
      "Iteration: 370\n",
      "Iteration: 380\n",
      "Iteration: 390\n",
      "Iteration: 400\n",
      "Iteration: 410\n",
      "Iteration: 420\n",
      "Iteration: 430\n",
      "Iteration: 440\n",
      "Iteration: 450\n",
      "Iteration: 460\n",
      "Iteration: 470\n",
      "Iteration: 480\n",
      "Iteration: 490\n",
      "Iteration: 500\n",
      "Iteration: 510\n",
      "Iteration: 520\n",
      "Iteration: 530\n",
      "Iteration: 540\n",
      "Iteration: 550\n",
      "Iteration: 560\n",
      "Iteration: 570\n",
      "Iteration: 580\n",
      "Iteration: 590\n",
      "Iteration: 600\n",
      "Iteration: 610\n",
      "Iteration: 620\n",
      "Iteration: 630\n",
      "Iteration: 640\n",
      "Iteration: 650\n",
      "Iteration: 660\n",
      "Iteration: 670\n",
      "Iteration: 680\n",
      "Iteration: 690\n",
      "Iteration: 700\n",
      "Iteration: 710\n",
      "Iteration: 720\n",
      "Iteration: 730\n",
      "Iteration: 740\n",
      "Iteration: 750\n",
      "Iteration: 760\n",
      "Iteration: 770\n",
      "Iteration: 780\n",
      "Iteration: 790\n",
      "Iteration: 800\n",
      "Iteration: 810\n",
      "Iteration: 820\n",
      "Iteration: 830\n",
      "Iteration: 840\n",
      "Iteration: 850\n",
      "Iteration: 860\n",
      "Iteration: 870\n",
      "Iteration: 880\n",
      "Iteration: 890\n",
      "Iteration: 900\n",
      "Iteration: 910\n",
      "Iteration: 920\n",
      "Iteration: 930\n",
      "Iteration: 940\n",
      "Iteration: 950\n",
      "Iteration: 960\n",
      "Iteration: 970\n",
      "Iteration: 980\n",
      "Iteration: 990\n",
      "DRS finished.\n",
      "(200, 3)\n",
      "0\n",
      "1\n",
      "2\n",
      "3\n",
      "4\n",
      "generate D, E\n",
      "compute scaled matrix\n",
      "after preconditioning, t_init changed to 0.015479657689722075\n",
      "Iteration: 0\n",
      "Iteration: 10\n",
      "Iteration: 20\n",
      "Iteration: 30\n",
      "Iteration: 40\n",
      "Iteration: 50\n",
      "Iteration: 60\n",
      "Iteration: 70\n",
      "Iteration: 80\n",
      "Iteration: 90\n",
      "Iteration: 100\n",
      "Iteration: 110\n",
      "Iteration: 120\n",
      "Iteration: 130\n",
      "Iteration: 140\n",
      "Iteration: 150\n",
      "Iteration: 160\n",
      "Iteration: 170\n",
      "Iteration: 180\n",
      "Iteration: 190\n",
      "Iteration: 200\n",
      "Iteration: 210\n",
      "Iteration: 220\n",
      "Iteration: 230\n",
      "Iteration: 240\n",
      "Iteration: 250\n",
      "Iteration: 260\n",
      "Iteration: 270\n",
      "Iteration: 280\n",
      "Iteration: 290\n",
      "Iteration: 300\n",
      "Iteration: 310\n",
      "Iteration: 320\n",
      "Iteration: 330\n",
      "Iteration: 340\n",
      "Iteration: 350\n",
      "Iteration: 360\n",
      "Iteration: 370\n",
      "Iteration: 380\n",
      "Iteration: 390\n",
      "Iteration: 400\n",
      "Iteration: 410\n",
      "Iteration: 420\n",
      "Iteration: 430\n",
      "Iteration: 440\n",
      "Iteration: 450\n",
      "Iteration: 460\n",
      "Iteration: 470\n",
      "Iteration: 480\n",
      "Iteration: 490\n",
      "Iteration: 500\n",
      "Iteration: 510\n",
      "Iteration: 520\n",
      "Iteration: 530\n",
      "Iteration: 540\n",
      "Iteration: 550\n",
      "Iteration: 560\n",
      "Iteration: 570\n",
      "Iteration: 580\n",
      "Iteration: 590\n",
      "Iteration: 600\n",
      "Iteration: 610\n",
      "Iteration: 620\n",
      "Iteration: 630\n",
      "Iteration: 640\n",
      "Iteration: 650\n",
      "Iteration: 660\n",
      "Iteration: 670\n",
      "Iteration: 680\n",
      "Iteration: 690\n",
      "Iteration: 700\n",
      "Iteration: 710\n",
      "Iteration: 720\n",
      "Iteration: 730\n",
      "Iteration: 740\n",
      "Iteration: 750\n",
      "Iteration: 760\n",
      "Iteration: 770\n",
      "Iteration: 780\n",
      "Iteration: 790\n",
      "Iteration: 800\n",
      "Iteration: 810\n",
      "Iteration: 820\n",
      "Iteration: 830\n",
      "Iteration: 840\n",
      "Iteration: 850\n",
      "Iteration: 860\n",
      "Iteration: 870\n",
      "Iteration: 880\n",
      "Iteration: 890\n",
      "Iteration: 900\n",
      "Iteration: 910\n",
      "Iteration: 920\n",
      "Iteration: 930\n",
      "Iteration: 940\n",
      "Iteration: 950\n",
      "Iteration: 960\n",
      "Iteration: 970\n",
      "Iteration: 980\n",
      "Iteration: 990\n",
      "A2DR finished.\n",
      "constraints violation = 8.372818909705875e-14 and 6.028461328414337e-14\n",
      "theta difference = 0.0027445775595142862\n"
     ]
    },
    {
     "data": {
      "image/png": "[encoded data removed]",
      "text/plain": [
       "<Figure size 432x288 with 1 Axes>"
      ]
     },
     "metadata": {
      "needs_background": "light"
     },
     "output_type": "display_data"
    },
    {
     "name": "stdout",
     "output_type": "stream",
     "text": [
      "cvxpy_obj = 6.408410012319979, cvxpy_obj_raw = 6.408155242616425, a2dr_obj = 6.408155037181316\n"
     ]
    }
   ],
   "source": [
    "# Multi-task Regularized Logistic Regression\n",
    "tests = test_paper.TestPaper()\n",
    "tests.setUp()\n",
    "tests.test_multi_task_logistic()"
   ]
  },
  {
   "cell_type": "code",
   "execution_count": 9,
   "metadata": {},
   "outputs": [],
   "source": [
    "## debug\n",
    "from cvxconsensus.proximal.prox_operators import prox_logistic\n",
    "import numpy as np\n",
    "from cvxpy import *\n",
    "from scipy import sparse\n",
    "import numpy.linalg as LA"
   ]
  },
  {
   "cell_type": "code",
   "execution_count": 7,
   "metadata": {},
   "outputs": [
    {
     "name": "stdout",
     "output_type": "stream",
     "text": [
      "3.556490177409625e-07\n"
     ]
    }
   ],
   "source": [
    "# check correctness of logistic proximal\n",
    "u = np.random.randn(100)\n",
    "rho = 1.5\n",
    "y = np.random.randn(100)\n",
    "u_prox = prox_logistic(u, rho, y=y)\n",
    "\n",
    "u_cvxpy = Variable(100)\n",
    "loss = sum(logistic(-multiply(y, u_cvxpy)))\n",
    "reg = rho/2*sum_squares(u_cvxpy - u)\n",
    "prob = Problem(Minimize(loss + reg))\n",
    "prob.solve()\n",
    "cvxpy_obj = prob.value\n",
    "u_cvxpy_val = u_cvxpy.value\n",
    "\n",
    "print(np.linalg.norm(u_prox - u_cvxpy_val))"
   ]
  },
  {
   "cell_type": "code",
   "execution_count": 10,
   "metadata": {},
   "outputs": [],
   "source": [
    "# check correctness of group lasso proximal\n",
    "\n",
    "def prox_norm2(alpha = 1.0):\n",
    "    def prox_norm2_inner(v, t):\n",
    "        if np.linalg.norm(v) == 0:\n",
    "            return np.zeros(len(v))\n",
    "        elif sparse.issparse(v):\n",
    "            return (1 - t*alpha*1.0/(sparse.linalg.norm(v,'fro'))).maximum(0) * v\n",
    "        else: \n",
    "            return np.maximum(1 - t*alpha*1.0/(LA.norm(v,2)),0) * v \n",
    "            \n",
    "    return lambda v, t: prox_norm2_inner(v, t)\n",
    "\n",
    "def prox_group_lasso(alpha = 1.0):\n",
    "    prox_inner = prox_norm2(alpha)\n",
    "    return lambda Q, t: np.concatenate([prox_inner(Q[:,j], t) for j in range(Q.shape[1])])\n",
    "\n",
    "alpha, t = 0.1, 0.01\n",
    "p, K = 5, 5\n",
    "prox_tmp = lambda v, t: prox_group_lasso(alpha)(v.reshape((p,K), order='F'), t)\n",
    "Q = np.random.randn(p, K)\n",
    "v = Q.ravel(order='F')\n",
    "vhat = prox_tmp(v,t).reshape((p,K), order='F')"
   ]
  },
  {
   "cell_type": "code",
   "execution_count": 41,
   "metadata": {},
   "outputs": [
    {
     "name": "stdout",
     "output_type": "stream",
     "text": [
      "\n",
      "ECOS 2.0.4 - (C) embotech GmbH, Zurich Switzerland, 2012-15. Web: www.embotech.com/ECOS\n",
      "\n",
      "It     pcost       dcost      gap   pres   dres    k/t    mu     step   sigma     IR    |   BT\n",
      " 0  +3.496e-15  -2.926e-02  +1e+03  7e-01  6e-04  1e+00  2e+02    ---    ---    1  1  - |  -  - \n",
      " 1  +6.505e-01  +6.645e-01  +1e+01  5e-03  7e-06  3e-02  2e+00  0.9889  1e-04   1  2  2 |  0  0\n",
      " 2  +9.648e-01  +9.711e-01  +5e-01  3e-04  3e-07  7e-03  7e-02  0.9604  4e-03   1  2  2 |  0  0\n",
      " 3  +1.011e+00  +1.011e+00  +6e-03  3e-06  3e-09  8e-05  8e-04  0.9890  1e-04   1  1  1 |  0  0\n",
      " 4  +1.012e+00  +1.012e+00  +6e-05  3e-08  4e-11  1e-06  9e-06  0.9890  1e-04   1  1  1 |  0  0\n",
      " 5  +1.012e+00  +1.012e+00  +7e-07  4e-10  4e-13  1e-08  1e-07  0.9890  1e-04   1  1  1 |  0  0\n",
      " 6  +1.012e+00  +1.012e+00  +8e-09  4e-12  5e-15  1e-10  1e-09  0.9890  1e-04   1  1  1 |  0  0\n",
      "\n",
      "OPTIMAL (within feastol=4.1e-12, reltol=7.5e-09, abstol=7.6e-09).\n",
      "Runtime: 0.000666 seconds.\n",
      "\n",
      "3.0076946982157315e-09\n"
     ]
    }
   ],
   "source": [
    "v_cvxpy = Variable((p,K))\n",
    "prob = Problem(Minimize(alpha*sum(norm(v_cvxpy, 2, axis=0)) + 1.0/2/t*sum_squares(v_cvxpy-Q)))\n",
    "prob.solve(solver='ECOS', verbose = True)\n",
    "v_cvxpy_val = v_cvxpy.value\n",
    "print(np.linalg.norm(v_cvxpy_val - vhat))"
   ]
  },
  {
   "cell_type": "code",
   "execution_count": 14,
   "metadata": {},
   "outputs": [
    {
     "name": "stdout",
     "output_type": "stream",
     "text": [
      "241.5999456566588\n",
      "241.5999456566588\n"
     ]
    }
   ],
   "source": [
    "import scipy as sp\n",
    "m, p, K = 20, 30, 5\n",
    "Y = np.random.randn(m,K)\n",
    "X = np.random.randn(m,p)\n",
    "theta = np.random.randn(p,K)\n",
    "print(np.sum(-np.log(sp.special.expit(np.multiply(Y, X.dot(theta))))))\n",
    "print(np.sum(np.log(1+np.exp(-np.multiply(Y,X.dot(theta))))))"
   ]
  },
  {
   "cell_type": "code",
   "execution_count": 31,
   "metadata": {},
   "outputs": [
    {
     "name": "stdout",
     "output_type": "stream",
     "text": [
      "3.806026490149262\n",
      "3.806026490149262\n"
     ]
    }
   ],
   "source": [
    "alpha, t = 0.1, 0.01\n",
    "vhat = prox_tmp(v,t).reshape((p,K), order='F')\n",
    "print(np.linalg.norm(vhat))\n",
    "\n",
    "def tmp(prox, v):\n",
    "    alpha = np.array([0,1,2.0])\n",
    "    return np.linalg.norm(prox_tmp(v,0.01))\n",
    "\n",
    "res = tmp(prox_tmp, v)\n",
    "print(res)"
   ]
  },
  {
   "cell_type": "code",
   "execution_count": 6,
   "metadata": {},
   "outputs": [],
   "source": [
    "def prox_norm1(alpha = 1.0):\n",
    "    return lambda v, t: (v - t*alpha).maximum(0) - (-v - t*alpha).maximum(0) if sparse.issparse(v) else \\\n",
    "                        np.maximum(v - t*alpha,0) - np.maximum(-v - t*alpha,0)"
   ]
  },
  {
   "cell_type": "code",
   "execution_count": 46,
   "metadata": {},
   "outputs": [
    {
     "name": "stdout",
     "output_type": "stream",
     "text": [
      "[0.0005     0.0005     0.0005     0.0005     0.0005     0.0005\n",
      " 0.0005     0.0005     0.0005     0.0005     0.0005     0.0005\n",
      " 0.0005     0.0005     0.0005     0.0005     0.0005     0.0005\n",
      " 0.0005     0.0005     0.0005     0.0005     0.0005     0.0005\n",
      " 0.0005     0.0005     0.0005     0.0005     0.0005     0.0005\n",
      " 0.0005     0.0005     0.0005     0.0005     0.0005     0.0005\n",
      " 0.0005     0.0005     0.0005     0.0005     0.0005     0.0005\n",
      " 0.0005     0.0005     0.0005     0.0005     0.0005     0.0005\n",
      " 0.0005     0.0005     0.0005     0.0005     0.0005     0.0005\n",
      " 0.0005     0.0005     0.0005     0.0005     0.0005     0.0005\n",
      " 0.0005     0.0005     0.0005     0.0005     0.0005     0.0005\n",
      " 0.0005     0.0005     0.0005     0.0005     0.0005     0.0005\n",
      " 0.0005     0.0005     0.0005     0.0005     0.0005     0.0005\n",
      " 0.0005     0.0005     0.0005     0.0005     0.0005     0.0005\n",
      " 0.00026709 0.0005     0.0005     0.0005     0.0005     0.0005\n",
      " 0.0005     0.0005     0.0005     0.0005     0.0005     0.0005\n",
      " 0.0005     0.0005     0.00022452 0.0005    ]\n",
      "[ 0.00613719 -0.00082253 -0.0014422   0.00792378 -0.00302272 -0.00056341\n",
      " -0.0138606  -0.002375   -0.0124414  -0.00938604 -0.00669641  0.01905036\n",
      "  0.01110404  0.00324049  0.00305029  0.01186398 -0.02075664 -0.01239348\n",
      " -0.00058853 -0.00773816 -0.01298183 -0.00421712  0.00622981  0.00951773\n",
      " -0.00069843  0.00290029  0.00614554 -0.0258691   0.00640464 -0.02076691\n",
      "  0.00320536  0.00541948  0.00597946 -0.00584668  0.00592993  0.00585493\n",
      "  0.00963701 -0.01563037 -0.00831148  0.00333293 -0.00216813  0.00688391\n",
      "  0.00471356  0.00207295  0.00445453  0.00177654 -0.00876251  0.0053007\n",
      " -0.00638601  0.01550482  0.01066143 -0.00689219  0.00157076 -0.01427323\n",
      "  0.00093413  0.01554829  0.00186818  0.00942816  0.01224443  0.00137031\n",
      "  0.01117246 -0.00211089  0.00224259 -0.01518794 -0.00736124 -0.00357741\n",
      "  0.00548158 -0.01115284  0.00156173 -0.01599639 -0.00398818 -0.00699943\n",
      "  0.01590844 -0.00765681 -0.00158708  0.00891213 -0.00720947  0.00427123\n",
      " -0.00119809 -0.00922227 -0.00773221  0.00750522 -0.00603555  0.00753572\n",
      "  0.00026709 -0.00855054 -0.00074949  0.02114537  0.00063345 -0.00787547\n",
      "  0.0032778  -0.00388245 -0.01395129  0.00370055 -0.00997436  0.01236735\n",
      "  0.01116299  0.0067524   0.00022452 -0.00871037]\n"
     ]
    }
   ],
   "source": [
    "v = np.random.randn(100)/100\n",
    "tmp = prox_norm1(0.5)\n",
    "print(np.abs(v)-np.abs(tmp(v, 0.001)))\n",
    "print(v)"
   ]
  },
  {
   "cell_type": "code",
   "execution_count": 6,
   "metadata": {},
   "outputs": [],
   "source": [
    "# import inspect\n",
    "# lines = inspect.getsource(test_paper)\n",
    "# print(lines)"
   ]
  }
 ],
 "metadata": {
  "kernelspec": {
   "display_name": "Python 3 (MHP_MLE_OPT)",
   "language": "python",
   "name": "mhp_mle_opt"
  },
  "language_info": {
   "codemirror_mode": {
    "name": "ipython",
    "version": 3
   },
   "file_extension": ".py",
   "mimetype": "text/x-python",
   "name": "python",
   "nbconvert_exporter": "python",
   "pygments_lexer": "ipython3",
   "version": "3.6.8"
  }
 },
 "nbformat": 4,
 "nbformat_minor": 2
}
