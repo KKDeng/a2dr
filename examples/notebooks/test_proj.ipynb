{
 "cells": [
  {
   "cell_type": "markdown",
   "metadata": {},
   "source": [
    "### Debug projection step\n",
    "Key takeaway information: \n",
    "1. use **sparse** storage (**csr_matrix** is better than **csc_matrix**, since csr format is more suitable for matrix-vector product) (*cf*. https://docs.scipy.org/doc/scipy/reference/sparse.html);\n",
    "2. when there is sparsity, use **lsqr** or spsolve, etc. to utilize the sparsity;\n",
    "3. when no sparsity, cache **Cholesky factorization** or still use **lsqr**."
   ]
  },
  {
   "cell_type": "code",
   "execution_count": 1,
   "metadata": {},
   "outputs": [],
   "source": [
    "import numpy as np\n",
    "import time\n",
    "import scipy.sparse.linalg\n",
    "import scipy.sparse"
   ]
  },
  {
   "cell_type": "code",
   "execution_count": 2,
   "metadata": {},
   "outputs": [],
   "source": [
    "# generate consensus matrix\n",
    "m0 = 100\n",
    "n0 = 1000\n",
    "N = 10   # Number of splits\n",
    "I = np.eye(n0)\n",
    "Z = np.zeros((n0,n0))\n",
    "A_consensus_list = []\n",
    "for i in range(N):\n",
    "    Ai = []\n",
    "    for j in range(N+1):\n",
    "        if j == i:\n",
    "            Ai.append(I)\n",
    "        elif j == i+1:\n",
    "            Ai.append(-I)\n",
    "        else:\n",
    "            Ai.append(Z)\n",
    "    A_consensus_list.append(Ai)\n",
    "A_consensus = np.block(A_consensus_list)"
   ]
  },
  {
   "cell_type": "code",
   "execution_count": 7,
   "metadata": {},
   "outputs": [
    {
     "name": "stdout",
     "output_type": "stream",
     "text": [
      "dense storage of A, AAT computation = 19.78760600090027 seconds\n",
      "sparse storage of A, AAT computation = 0.06254887580871582 seconds\n",
      "AAT # nonzeros = 28000\n"
     ]
    }
   ],
   "source": [
    "# compute AAT\n",
    "A_consensus_sp = scipy.sparse.csr_matrix(A_consensus)\n",
    "t1 = time.time()\n",
    "AAT = A_consensus.dot(A_consensus.T)\n",
    "t2 = time.time()\n",
    "print('dense storage of A, AAT computation = {} seconds'.format(t2 - t1))\n",
    "t1 = time.time()\n",
    "AAT = A_consensus_sp.dot(A_consensus_sp.T)\n",
    "t2 = time.time()\n",
    "print('sparse storage of A, AAT computation = {} seconds'.format(t2 - t1))\n",
    "print('AAT # nonzeros = {}'.format(AAT.count_nonzero()))"
   ]
  },
  {
   "cell_type": "code",
   "execution_count": 8,
   "metadata": {},
   "outputs": [],
   "source": [
    "# generate random x and b = 0\n",
    "x = np.random.randn(n0*(N+1))\n",
    "b = np.zeros(n0*N)\n",
    "Ax_b = A_consensus_sp.dot(x) - b"
   ]
  },
  {
   "cell_type": "code",
   "execution_count": 20,
   "metadata": {},
   "outputs": [
    {
     "name": "stdout",
     "output_type": "stream",
     "text": [
      "sparse storage of A, projection step using lsqr = 0.008413076400756836 seconds\n"
     ]
    }
   ],
   "source": [
    "# solve the projection step least squares\n",
    "# atol and btol controls the final accuracy of the solution\n",
    "t1 = time.time()\n",
    "res = scipy.sparse.linalg.lsqr(AAT,Ax_b,atol=1e-16,btol=1e-16)\n",
    "t2 = time.time()\n",
    "print('sparse storage of A, projection step using lsqr = {} seconds'.format(t2 - t1))"
   ]
  },
  {
   "cell_type": "code",
   "execution_count": 21,
   "metadata": {},
   "outputs": [
    {
     "name": "stdout",
     "output_type": "stream",
     "text": [
      "Final output accuracy in terms of the normal equation = 2.346049526259128e-13\n"
     ]
    }
   ],
   "source": [
    "# final output accuracy test\n",
    "acc = np.linalg.norm(AAT.T.dot(AAT).dot(res[0]) - AAT.T.dot(Ax_b))\n",
    "print('Final output accuracy in terms of the normal equation = {}'.format(acc))"
   ]
  },
  {
   "cell_type": "markdown",
   "metadata": {},
   "source": [
    "#### Some other alternative approaches\n",
    "1. abstract **linear operator** input to lsqr (should be more efficient when A is sparse but AAT is not)\n",
    "2. spsolve (only guaranteed to work when AAT is full rank)"
   ]
  },
  {
   "cell_type": "code",
   "execution_count": 33,
   "metadata": {},
   "outputs": [
    {
     "name": "stdout",
     "output_type": "stream",
     "text": [
      "sparse storage of A, linear operator version of AAT, projection step using lsqr = 0.013865947723388672 seconds\n"
     ]
    }
   ],
   "source": [
    "# use abstract linear operator input to fully utilize the sparsity in A\n",
    "def Ax(x):\n",
    "    \"\"\"Returns A*x\"\"\"\n",
    "    return A_consensus_sp.dot(A_consensus_sp.T.dot(x))\n",
    "\n",
    "def Atb(b):\n",
    "    \"\"\"Returns A'*b\"\"\"\n",
    "    return A_consensus_sp.dot(A_consensus_sp.T.dot(b))\n",
    "\n",
    "AAT_op = scipy.sparse.linalg.LinearOperator((n0*N,n0*N), matvec=Ax, rmatvec=Atb)\n",
    "\n",
    "t1 = time.time()\n",
    "res_op = scipy.sparse.linalg.lsqr(AAT_op,Ax_b,atol=1e-16,btol=1e-16)\n",
    "t2 = time.time()\n",
    "print('sparse storage of A, linear operator version of AAT, projection step using lsqr = {} seconds'.format(t2 - t1))"
   ]
  },
  {
   "cell_type": "code",
   "execution_count": 37,
   "metadata": {},
   "outputs": [
    {
     "name": "stdout",
     "output_type": "stream",
     "text": [
      "sparse storage of A, projection step using spsolve = 0.008343219757080078 seconds\n",
      "Final output accuracy = 2.1480537460527604e-14\n"
     ]
    }
   ],
   "source": [
    "# another method: solve using spsolve (assuming that AAT is full rank)\n",
    "# but if AAT is not full rank, then this method may fail\n",
    "t1 = time.time()\n",
    "res_tmp = scipy.sparse.linalg.spsolve(AAT,Ax_b)\n",
    "t2 = time.time()\n",
    "print('sparse storage of A, projection step using spsolve = {} seconds'.format(t2-t1))\n",
    "print('Final output accuracy = {}'.format(np.linalg.norm(AAT.dot(res_tmp)-Ax_b)))"
   ]
  },
  {
   "cell_type": "code",
   "execution_count": 38,
   "metadata": {},
   "outputs": [
    {
     "name": "stdout",
     "output_type": "stream",
     "text": [
      "A_consensus_sp is csr\n",
      "A_consensus_sp.T is csc\n",
      "AAT is csr\n"
     ]
    }
   ],
   "source": [
    "# check formats of the sparse matrices\n",
    "print('A_consensus_sp is {}'.format(A_consensus_sp.getformat()))\n",
    "print('A_consensus_sp.T is {}'.format(A_consensus_sp.T.getformat()))\n",
    "print('AAT is {}'.format(AAT.getformat()))"
   ]
  },
  {
   "cell_type": "code",
   "execution_count": 39,
   "metadata": {},
   "outputs": [],
   "source": [
    "# A_consensus_T_sp = scipy.sparse.csr_matrix(A_consensus_sp.T)\n",
    "# don't do this, multiply two csr_matrix are terribly slow\n",
    "# AAT.getformat()\n",
    "\n",
    "#print(np.linalg.norm(AAT.dot(res[0])-Ax_b))\n",
    "\n",
    "# res2 = np.linalg.solve(AAT,Ax_b)\n",
    "\n",
    "# t1 = time.time()\n",
    "# res = np.linalg.lstsq(AAT,Ax_b)\n",
    "# t2 = time.time()\n",
    "# t2 - t1"
   ]
  }
 ],
 "metadata": {
  "kernelspec": {
   "display_name": "Python 3",
   "language": "python",
   "name": "python3"
  },
  "language_info": {
   "codemirror_mode": {
    "name": "ipython",
    "version": 3
   },
   "file_extension": ".py",
   "mimetype": "text/x-python",
   "name": "python",
   "nbconvert_exporter": "python",
   "pygments_lexer": "ipython3",
   "version": "3.6.5"
  }
 },
 "nbformat": 4,
 "nbformat_minor": 2
}
