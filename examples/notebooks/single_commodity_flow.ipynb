{
 "cells": [
  {
   "cell_type": "markdown",
   "metadata": {},
   "source": [
    "# Single Commodity Flow Optimization\n",
    "\n",
    "**References:** \n",
    "1. N. Moehle, E. Busseti, S. Boyd, and M. Wytock. [*Dynamic Energy Management*](https://stanford.edu/~boyd/papers/dyn_ener_man.html) in Large Scale Optimization in Supply Chains and Smart Manufacturing, Springer, pp. 69-126, 2019.\n",
    "2. P. Yin, S. Diamond, B. Lin, and S. Boyd. [*Network Optimization for Unified Packet and Circuit Switched Networks.*](https://stanford.edu/~boyd/papers/net_opt.html) Optimization and Engineering, 21(1):159-180, 2020.\n",
    "\n",
    "## Introduction\n",
    "\n",
    "Consider a network with $p$ nodes and $q$ (directed) arcs described by an incidence matrix $B \\in \\mathbf{R}^{p \\times q}$ with\n",
    "\n",
    "$$B_{ij} = \\begin{cases}\n",
    "1 & \\text{arc $j$ enters node $i$} \\\\\n",
    "-1 & \\text{arc $j$ leaves node $i$} \\\\\n",
    "0 & \\text{otherwise}.\\end{cases}$$\n",
    "\n",
    "Suppose a single commodity flows in this network. Let $z \\in \\mathbf{R}^q$ denote the arc flows and $s \\in \\mathbf{R}^p$ the node sources. We have the flow conservation constraint $Bz + s = 0$, which in turn implies that $\\mathbf{1}^Ts = 0$ since $B^T\\mathbf{1} = 0$. The total cost of traffic on the network is the sum of a flow cost, represented by $\\psi:\\mathbf{R}^q \\rightarrow \\mathbf{R} \\cup \\{\\infty\\}$, and a source cost, represented by $\\phi:\\mathbf{R}^p \\rightarrow \\mathbf{R} \\cup \\{\\infty\\}$. We assume that these costs are separable with respect to the flows and sources, \\ie, $\\psi(z) = \\sum_{j=1}^q \\psi_j(z_j)$ and $\\phi(s) = \\sum_{i=1}^p \\phi_i(s_i)$. Our goal is to choose flow and source vectors such that the network cost is minimized:\n",
    "\n",
    "$$\\begin{array}{ll}\n",
    "\\mbox{minimize} & \\psi(z) + \\phi(s) \\\\\n",
    "\\mbox{subject to} & Bz + s = 0\n",
    "\\end{array}$$\n",
    "\n",
    "with respect to $z$ and $s$."
   ]
  },
  {
   "cell_type": "markdown",
   "metadata": {},
   "source": [
    "## DC Power Flow Problem\n",
    "\n",
    "We consider a special case modeled on the DC power flow problem in power engineering. The flow costs are quadratic with a capacity constraint:\n",
    "\n",
    "$$\\psi_j(z_j) = \\begin{cases}\n",
    "c_jz_j^2 & |z_j| \\leq z_j^{\\max} \\\\\n",
    "\\infty & \\text{otherwise.}\n",
    "\\end{cases}$$\n",
    "\n",
    "The source costs are determined by the node type, which can fall into one of three categories:\n",
    "\n",
    "1. **Transfer/way-point nodes** fixed at $s_i = 0$, i.e., \n",
    "$$\\phi_i(s_i) = d_is_i^2 + I_{\\{0\\}}(s_i) = I_{\\{0\\}}(s_i).$$\n",
    "2. **Sink nodes** fixed at $s_i = L_i$ (for $L_i < 0$), i.e., \n",
    "$$\\phi_i(s_i) = d_is_i^2 + I_{\\{L_i\\}}(s_i) = d_iL_i^2 + I_{\\{L_i\\}}(s_i).$$\n",
    "3. **Source nodes** with cost\n",
    "$$\\phi_i(s_i) = \\begin{cases}\n",
    "d_is_i^2 & 0 \\leq s_i \\leq s_i^{\\max} \\\\\n",
    "\\infty & \\text{otherwise}.\n",
    "\\end{cases}$$\n",
    "\n",
    "The vectors $c \\in \\mathbf{R}_+^q, d \\in \\mathbf{R}_+^p, z^{\\max} \\in \\mathbf{R}^q$, and $s^{\\max} \\in \\mathbf{R}^p$ are constants. Here we have used the set indicator function $I_C$, which for any set $C$ is defined as\n",
    "\n",
    "$$I_C(x) = \\begin{cases}\n",
    "0 & x \\in C \\\\\n",
    "\\infty & \\text{otherwise.}\n",
    "\\end{cases}$$"
   ]
  },
  {
   "cell_type": "markdown",
   "metadata": {},
   "source": [
    "## Reformulate Problem\n",
    "\n",
    "The DC power flow problem can be restated in standard form by letting $x_1 \\in \\mathbf{R}^2, x_2 \\in \\mathbf{R}^p$,\n",
    "\n",
    "$$f_1(x_1) = \\psi(x_1), \\quad f_2(x_2) = \\phi(x_2),$$\n",
    "$$A_1 = B, \\quad A_2 = I, \\quad b = 0.$$\n",
    "\n",
    "Since costs are separable, the proximal operators can be calculated elementwise with\n",
    "\n",
    "$$(\\mathbf{prox}_{tf_1}(v))_j = \\Pi_{[-z_j^{\\max},z_j^{\\max}]}\n",
    "\\left(\\frac{v_j}{2 tc_j + 1}\\right), \\quad j = 1,\\ldots,q,$$\n",
    "$$(\\mathbf{prox}_{tf_2})(w))_i = \\Pi_{[0,s_i^{\\max}]}\n",
    "\\left(\\frac{w_i}{2 td_i + 1}\\right), \\quad i \n",
    "\\text{ is a source node,}$$\n",
    "\n",
    "where $\\Pi_C$ denotes the projection onto a set $C$."
   ]
  },
  {
   "cell_type": "markdown",
   "metadata": {},
   "source": [
    "## Generate Data\n",
    "\n",
    "We solve an instance with $p = 15$ and $q = 20$. See Section 7.4 of [A. Fu, J. Zhang, and S. Boyd (2019)](https://stanford.edu/~boyd/papers/a2dr.html) for a detailed description of the data generation process."
   ]
  },
  {
   "cell_type": "code",
   "execution_count": 1,
   "metadata": {},
   "outputs": [],
   "source": [
    "import numpy as np\n",
    "import scipy.sparse.linalg as spLA\n",
    "from scipy import sparse\n",
    "from itertools import combinations\n",
    "\n",
    "np.random.seed(1)\n",
    "\n",
    "# Problem data.\n",
    "p = 15   # Number of sources.\n",
    "q = 20   # Number of flows.\n",
    "\n",
    "# Select source pairs without replacement.\n",
    "pairs = list(combinations(range(p),2))\n",
    "p_sel = np.random.choice(range(len(pairs)), size=q-p+1, replace=False)\n",
    "\n",
    "# Construct a random incidence/adjacency matrix.\n",
    "B = sparse.lil_matrix((p,q))\n",
    "G_adj = np.zeros((p,p))\n",
    "for i in range(q-p+1):\n",
    "    idxs = pairs[p_sel[i]]\n",
    "    tmp = np.random.rand()\n",
    "    if tmp > 0.5:\n",
    "        B[idxs[0],i] = 1\n",
    "        B[idxs[1],i] = -1\n",
    "        G_adj[idxs[1],idxs[0]] = 1\n",
    "    else:\n",
    "        B[idxs[0],i] = -1\n",
    "        B[idxs[1],i] = 1\n",
    "        G_adj[idxs[0],idxs[1]] = 1 \n",
    "for j in range(q-p+1,q):\n",
    "    B[j-(q-p+1),j] = 1\n",
    "    B[j-(q-p),j] = -1\n",
    "    G_adj[j-(q-p),j-(q-p+1)] = 1\n",
    "B = sparse.csr_matrix(B)\n",
    "\n",
    "# Generate source and flow range data\n",
    "s_tilde = np.random.randn(p)\n",
    "p1, p2, p3 = int(p/3), int(p/3*2), int(p/6*5)\n",
    "s_tilde[:p1] = 0\n",
    "s_tilde[p1:p2] = -np.abs(s_tilde[p1:p2])\n",
    "s_tilde[p2:] = np.sum(np.abs(s_tilde[p1:p2])) / (p-p2)\n",
    "L = s_tilde[p1:p2]\n",
    "s_max = np.hstack([s_tilde[p2:p3] + 0.001, (s_tilde[p3:] + 0.001)*2])\n",
    "\n",
    "res = spLA.lsqr(B, -s_tilde, atol=1e-16, btol=1e-16)\n",
    "z_tilde = res[0]\n",
    "q1 = int(q/2)\n",
    "z_max = np.abs(z_tilde) + 0.001\n",
    "z_max[q1:] = 2*z_max[q1:]\n",
    "\n",
    "# Generate cost coefficients\n",
    "c = np.random.rand(q)\n",
    "d = np.random.rand(p)"
   ]
  },
  {
   "cell_type": "markdown",
   "metadata": {},
   "source": [
    "## Solve Problem"
   ]
  },
  {
   "cell_type": "code",
   "execution_count": 2,
   "metadata": {},
   "outputs": [
    {
     "name": "stdout",
     "output_type": "stream",
     "text": [
      "----------------------------------------------------------------------\n",
      "a2dr v0.2.3.post3 - Prox-Affine Distributed Convex Optimization Solver\n",
      "                       (c) Anqi Fu, Junzi Zhang\n",
      "                      Stanford University   2019\n",
      "----------------------------------------------------------------------\n",
      "### Preconditioning starts ... ###\n",
      "### Preconditioning finished.  ###\n",
      "max_iter = 1000, t_init (after preconditioning) = 0.49\n",
      "eps_abs = 1.00e-06, eps_rel = 1.00e-08, precond = True\n",
      "ada_reg = True, anderson = True, m_accel = 10\n",
      "lam_accel = 1.00e-08, aa_method = lstsq, D_safe = 1.00e+06\n",
      "eps_safe = 1.00e-06, M_safe = 10\n",
      "variables n = 35, constraints m = 15\n",
      "nnz(A) = 55\n",
      "Setup time: 2.00e-02\n",
      "----------------------------------------------------\n",
      " iter | total res | primal res | dual res | time (s)\n",
      "----------------------------------------------------\n",
      "     0| 3.99e+00    9.04e-01     3.89e+00   7.47e-02\n",
      "   100| 3.66e-04    3.66e-04     7.98e-07   6.04e-01\n",
      "   200| 3.66e-04    3.66e-04     2.41e-09   1.21e+00\n",
      "   300| 3.66e-04    3.66e-04     2.22e-10   1.70e+00\n",
      "   396| 9.38e-07    7.43e-08     9.35e-07   2.13e+00\n",
      "----------------------------------------------------\n",
      "Status: Solved\n",
      "Solve time: 2.13e+00\n",
      "Total number of iterations: 397\n",
      "Best total residual: 9.38e-07; reached at iteration 396\n",
      "======================================================================\n",
      "Objective value: 6.691338841598938\n",
      "Constraint violation: 1.6715393694811648e-07\n"
     ]
    }
   ],
   "source": [
    "from a2dr import a2dr\n",
    "from a2dr.proximal import *\n",
    "\n",
    "# Convert problem to standard form.\n",
    "zeros = np.zeros(p1)\n",
    "def prox_sat(v, t, c, v_lo = -np.inf, v_hi = np.inf):\n",
    "    return prox_box_constr(prox_sum_squares(v, t*c), t, v_lo, v_hi)\n",
    "prox_list = [lambda v, t: prox_sat(v, t, c, -z_max, z_max),\n",
    "             lambda v, t: np.hstack([zeros, L, prox_sat(v[p2:], t, d[p2:], 0, s_max)])]\n",
    "A_list = [B, sparse.eye(p)]\n",
    "b = np.zeros(p)\n",
    "\n",
    "# Solve with A2DR.\n",
    "a2dr_result = a2dr(prox_list, A_list, b)\n",
    "a2dr_z = a2dr_result['x_vals'][0]\n",
    "a2dr_s = a2dr_result['x_vals'][1]\n",
    "\n",
    "# Compute objective and constraint violations.\n",
    "a2dr_obj = np.sum(c*a2dr_z**2) + np.sum(d*a2dr_s**2)\n",
    "a2dr_constr_vio = [np.maximum(np.abs(a2dr_z) - z_max, 0), \n",
    "                    a2dr_s[:p1], \n",
    "                    np.abs(a2dr_s[p1:p2] - L), \n",
    "                    np.maximum(-a2dr_s[p2:], 0),\n",
    "                    np.maximum(a2dr_s[p2:] - s_max,0),\n",
    "                    B.dot(a2dr_z) + a2dr_s]\n",
    "a2dr_constr_vio_norm = np.linalg.norm(np.hstack(a2dr_constr_vio))\n",
    "\n",
    "# Print solution.\n",
    "print(\"Objective value:\", a2dr_obj)\n",
    "print(\"Constraint violation:\", a2dr_constr_vio_norm)"
   ]
  },
  {
   "cell_type": "markdown",
   "metadata": {},
   "source": [
    "## Visualize Network"
   ]
  },
  {
   "cell_type": "code",
   "execution_count": 3,
   "metadata": {},
   "outputs": [
    {
     "name": "stdout",
     "output_type": "stream",
     "text": [
      "Nodes of graph: \n",
      "[0, 1, 2, 3, 4, 5, 6, 7, 8, 9, 10, 11, 12, 13, 14]\n",
      "Edges of graph: \n",
      "[(1, 0), (2, 1), (3, 2), (3, 4), (3, 7), (4, 3), (5, 4), (5, 11), (6, 5), (7, 6), (8, 7), (9, 8), (10, 9), (11, 2), (11, 10), (12, 11), (13, 9), (13, 12), (14, 2), (14, 13)]\n"
     ]
    },
    {
     "data": {
      "image/png": "[encoded data removed]",
      "text/plain": [
       "<Figure size 864x720 with 3 Axes>"
      ]
     },
     "metadata": {
      "needs_background": "light"
     },
     "output_type": "display_data"
    }
   ],
   "source": [
    "import matplotlib.pyplot as plt\n",
    "import networkx as nx\n",
    "\n",
    "%matplotlib inline\n",
    "\n",
    "np.random.seed(1028) # fix the spring layout randomness\n",
    "\n",
    "# Form graph from adjacency matrix.\n",
    "G = nx.from_numpy_matrix(G_adj, create_using=nx.DiGraph)\n",
    "\n",
    "print(\"Nodes of graph: \")\n",
    "print(G.nodes())\n",
    "print(\"Edges of graph: \")\n",
    "print(G.edges())\n",
    "\n",
    "# Plot network.\n",
    "plt.figure(figsize=(12,10))\n",
    "pos = nx.spring_layout(G)\n",
    "nodes = nx.draw_networkx_nodes(G, pos, node_color=a2dr_s, with_labels=False, node_size=100, node_cmap=plt.cm.Reds)\n",
    "edges = nx.draw_networkx_edges(G, pos, edge_color=a2dr_z, width=4, edge_cmap=plt.cm.RdBu, arrows=False)\n",
    "\n",
    "edge_norm = plt.cm.colors.Normalize(np.min(a2dr_z), np.max(a2dr_z))\n",
    "edge_cbar = plt.cm.ScalarMappable(norm=edge_norm, cmap=plt.cm.RdBu)\n",
    "edge_cbar.set_array(a2dr_z)\n",
    "plt.colorbar(edge_cbar, label=\"Arc flow\")\n",
    "plt.colorbar(nodes, label=\"Node source\")\n",
    "plt.axis(\"off\")\n",
    "plt.show()"
   ]
  }
 ],
 "metadata": {
  "kernelspec": {
   "display_name": "MHP_MLE_OPT_catalina",
   "language": "python",
   "name": "mhp_mle_opt_catalina"
  },
  "language_info": {
   "codemirror_mode": {
    "name": "ipython",
    "version": 3
   },
   "file_extension": ".py",
   "mimetype": "text/x-python",
   "name": "python",
   "nbconvert_exporter": "python",
   "pygments_lexer": "ipython3",
   "version": "3.6.8"
  }
 },
 "nbformat": 4,
 "nbformat_minor": 2
}
