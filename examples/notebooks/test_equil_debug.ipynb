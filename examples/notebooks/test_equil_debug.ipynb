{
 "cells": [
  {
   "cell_type": "code",
   "execution_count": 1,
   "metadata": {},
   "outputs": [],
   "source": [
    "import numpy as np\n",
    "import copy as copy\n",
    "from scipy.linalg import toeplitz, block_diag\n",
    "import matplotlib.pyplot as plt\n",
    "import time\n",
    "from scipy import sparse\n",
    "from scipy.sparse import block_diag, issparse, csr_matrix, diags\n",
    "from scipy.stats.mstats import gmean"
   ]
  },
  {
   "cell_type": "code",
   "execution_count": 2,
   "metadata": {},
   "outputs": [
    {
     "name": "stdout",
     "output_type": "stream",
     "text": [
      "/Users/junziz/Desktop/[Updated]Notes_for_Classes/SEMINARS/various_research/boyd_research/distributed_aa/a2dr\n"
     ]
    }
   ],
   "source": [
    "cd ../.."
   ]
  },
  {
   "cell_type": "code",
   "execution_count": 3,
   "metadata": {},
   "outputs": [],
   "source": [
    "import a2dr"
   ]
  },
  {
   "cell_type": "code",
   "execution_count": 4,
   "metadata": {},
   "outputs": [],
   "source": [
    "from a2dr.precondition import mat_equil"
   ]
  },
  {
   "cell_type": "code",
   "execution_count": 14,
   "metadata": {},
   "outputs": [],
   "source": [
    "np.random.seed(1)\n",
    "\n",
    "# ## version 1: random\n",
    "# m = 10000\n",
    "# N = 1000\n",
    "# max_size = 20 # maximum size of each block\n",
    "# n_list = [np.random.randint(max_size+1) for i in range(N)] # list of variable block sizes n_i\n",
    "# n = np.sum(n_list) # total variable dimension = n_1 + ... + n_N\n",
    "# A = np.random.randn(m, n)\n",
    "\n",
    "# ## version 2: consensus\n",
    "# N = 4\n",
    "# ni = 20\n",
    "# m = ni * (N-1)\n",
    "# n = ni * N\n",
    "# n_list = [ni, ni, ni, ni]\n",
    "# A = np.block([[np.eye(ni), -np.eye(ni), np.zeros((ni,ni)), np.zeros((ni,ni))],\n",
    "#               [np.zeros((ni,ni)), np.eye(ni), -np.eye(ni), np.zeros((ni,ni))],\n",
    "#               [np.zeros((ni,ni)), np.zeros((ni,ni)), np.eye(ni), -np.eye(ni)]])\n",
    "\n",
    "# ## version 3: l1_trend_filtering\n",
    "# def prox_norm1(alpha = 1.0):\n",
    "#     return lambda v, t: (v - t*alpha).maximum(0) - (-v - t*alpha).maximum(0) if sparse.issparse(v) else \\\n",
    "#                         np.maximum(v - t*alpha,0) - np.maximum(-v - t*alpha,0)\n",
    "\n",
    "# Problem data.\n",
    "n0 = 2*10**4\n",
    "n = 2*n0-2\n",
    "m = n0-2\n",
    "y = np.random.randn(n)\n",
    "alpha = 0.1*np.linalg.norm(y, np.inf)\n",
    "\n",
    "# Form second difference matrix.\n",
    "D = sparse.lil_matrix(sparse.eye(n0))\n",
    "D.setdiag(-2, k = 1)\n",
    "D.setdiag(1, k = 2)\n",
    "D = D[:(n0-2),:]\n",
    "\n",
    "# Convert problem to standard form.\n",
    "# f_1(x_1) = (1/2)||y - x_1||_2^2, f_2(x_2) = \\alpha*||x_2||_1.\n",
    "# A_1 = D, A_2 = -I_{n-2}, b = 0.\n",
    "prox_list = [lambda v, t: (t*y + v)/(t + 1.0), prox_norm1(alpha)]\n",
    "A_list = [D, -sparse.eye(n0-2)]\n",
    "b = np.zeros(n0-2)\n",
    "\n",
    "n_list = [A.shape[1] for A in A_list]\n",
    "A_list_dense = [(A_list[i].todense() if issparse(A_list[i]) else A_list[i]) for i in range(len(A_list))]\n",
    "A = np.array(np.hstack(A_list_dense))\n",
    "\n",
    "## common part\n",
    "tol = 1e-6 # tolerance for terminating the equilibration\n",
    "max_iter = 10000 # maximum number of iterations for terminating the equilibration"
   ]
  },
  {
   "cell_type": "code",
   "execution_count": 15,
   "metadata": {},
   "outputs": [
    {
     "name": "stdout",
     "output_type": "stream",
     "text": [
      "Block matrix shape = (19998, 2)\n",
      "gamma=7.451325729496777e-09\n",
      "k=0, err_d=0.7142857148939873, err_e=1.7921510389826194\n",
      "k=1, err_d=3.738336806780049e-09, err_e=3.282826815346747e-08\n",
      "generate D, E\n",
      "compute scaled matrix\n"
     ]
    }
   ],
   "source": [
    "d, e, B, k = mat_equil(A, n_list, tol, max_iter)"
   ]
  },
  {
   "cell_type": "code",
   "execution_count": 16,
   "metadata": {},
   "outputs": [
    {
     "name": "stdout",
     "output_type": "stream",
     "text": [
      "[Sanity Check]\n",
      "len(d) = 19998, len(e) = 2, iter number = 1\n",
      "gmean(d) = 0.06721782453705309, gmean(e) = 0.06721782453705297\n",
      "\\|A\\|_2 = 374.1470299227297, \\|DAE\\|_2 = 1.4142135623730705\n",
      "min(|A|) = 0.0, max(|A|) = 2.0, mean(|A|) = 0.00012500625031251563\n",
      "min(|B|) = 0.0, max(|B|) = 0.0070714213533541025, mean(|B|) = 4.654983797554271e-07\n"
     ]
    }
   ],
   "source": [
    "print('[Sanity Check]')\n",
    "print('len(d) = {}, len(e) = {}, iter number = {}'.format(len(d), len(e), k))\n",
    "print('gmean(d) = {}, gmean(e) = {}'.format(gmean(d), gmean(e)))\n",
    "print('\\|A\\|_2 = {}, \\|DAE\\|_2 = {}'.format(np.linalg.norm(A), np.linalg.norm(B)))\n",
    "print('min(|A|) = {}, max(|A|) = {}, mean(|A|) = {}'.format(np.min(np.abs(A)), \n",
    "                                                            np.max(np.abs(A)), np.average(np.abs(A))))\n",
    "print('min(|B|) = {}, max(|B|) = {}, mean(|B|) = {}'.format(np.min(np.abs(B)), \n",
    "                                                            np.max(np.abs(B)), np.average(np.abs(B))))"
   ]
  },
  {
   "cell_type": "code",
   "execution_count": 17,
   "metadata": {},
   "outputs": [
    {
     "data": {
      "image/png": "[encoded data removed]",
      "text/plain": [
       "<Figure size 432x288 with 1 Axes>"
      ]
     },
     "metadata": {
      "needs_background": "light"
     },
     "output_type": "display_data"
    },
    {
     "data": {
      "image/png": "[encoded data removed]",
      "text/plain": [
       "<Figure size 432x288 with 1 Axes>"
      ]
     },
     "metadata": {
      "needs_background": "light"
     },
     "output_type": "display_data"
    },
    {
     "data": {
      "image/png": "[encoded data removed]",
      "text/plain": [
       "<Figure size 432x288 with 1 Axes>"
      ]
     },
     "metadata": {
      "needs_background": "light"
     },
     "output_type": "display_data"
    },
    {
     "data": {
      "image/png": "[encoded data removed]",
      "text/plain": [
       "<Figure size 432x288 with 1 Axes>"
      ]
     },
     "metadata": {
      "needs_background": "light"
     },
     "output_type": "display_data"
    }
   ],
   "source": [
    "# row norms\n",
    "A_norms_r = np.sqrt((A**2).dot(np.ones(n))) \n",
    "B_norms_r = np.sqrt((np.array(B)**2).dot(np.ones(n))) \n",
    "#scale_r = np.mean(A_norms_r) / np.mean(B_norms_r)\n",
    "#A_norms_r = A_norms_r / scale_r\n",
    "\n",
    "# column norms\n",
    "A_norms_c = np.sqrt(np.ones(m).dot(A**2))\n",
    "B_norms_c = np.sqrt(np.ones(m).dot(np.array(B)**2))\n",
    "#scale_c = np.mean(A_norms_c) / np.mean(B_norms_c)\n",
    "#A_norms_c = A_norms_c / scale_c\n",
    "\n",
    "# visualization of row norms\n",
    "plt.plot(A_norms_r)\n",
    "plt.plot(B_norms_r)\n",
    "plt.title('row norms before and after equilibration')\n",
    "plt.legend(['before', 'after'])\n",
    "plt.show()\n",
    "\n",
    "# visualization of column norms\n",
    "plt.plot(A_norms_c)\n",
    "plt.plot(B_norms_c)\n",
    "plt.title('column norms before and after equilibration')\n",
    "plt.legend(['before', 'after'])\n",
    "plt.show()\n",
    "\n",
    "# visualization of left scaling d\n",
    "plt.plot(d)\n",
    "plt.title('d: min = {:.3}, max = {:.3}, gmean = {:.3}'.format(np.min(d), np.max(d), gmean(d)))\n",
    "plt.show()\n",
    "\n",
    "# visualization of right scaling e\n",
    "plt.plot(e)\n",
    "plt.title('e: min = {:.3}, max = {:.3}, gmean = {:.3}'.format(np.min(e), np.max(e), gmean(e)))\n",
    "plt.show()"
   ]
  },
  {
   "cell_type": "markdown",
   "metadata": {},
   "source": [
    "# debug into the equilibration step"
   ]
  },
  {
   "cell_type": "code",
   "execution_count": 5,
   "metadata": {},
   "outputs": [],
   "source": [
    "# debug into the equilibration step\n",
    "def prox_sum_squares(X, y, type = \"lsqr\"):\n",
    "    n = X.shape[1]\n",
    "    if type == \"lsqr\":\n",
    "        X = sparse.csr_matrix(X)\n",
    "        def prox(v, t):\n",
    "            A = sparse.vstack([X, 1/np.sqrt(2*t)*sparse.eye(n)])\n",
    "            b = np.concatenate([y, 1/np.sqrt(2*t)*v])\n",
    "            return sparse.linalg.lsqr(A, b, atol=1e-16, btol=1e-16)[0]\n",
    "    elif type == \"lstsq\":\n",
    "        def prox(v, t):\n",
    "            A = np.vstack([X, 1/np.sqrt(2*t)*np.eye(n)])\n",
    "            b = np.concatenate([y, 1/np.sqrt(2*t)*v])\n",
    "            return LA.lstsq(A, b, rcond=None)[0]\n",
    "    else:\n",
    "        raise ValueError(\"Algorithm type not supported:\", type)\n",
    "    return prox\n",
    "\n",
    "m, n = 100, 1000\n",
    "density = 0.001\n",
    "beta_true = np.array(np.arange(-n/2,n/2) + 1)\n",
    "#X = np.random.randn(n,n)\n",
    "X = sparse.random(m, n, density=density, data_rvs=np.random.randn)\n",
    "#y = X.dot(beta_true) + np.random.randn(n)\n",
    "y = np.random.randn(m)\n",
    "\n",
    "\n",
    "prox_list = [prox_sum_squares(X, y), lambda v, t: v.maximum(0) if sparse.issparse(v) else np.maximum(v,0)]\n",
    "A_list = [sparse.eye(n), -sparse.eye(n)]\n",
    "b = np.zeros(n)"
   ]
  },
  {
   "cell_type": "code",
   "execution_count": 6,
   "metadata": {},
   "outputs": [],
   "source": [
    "from scipy.sparse import issparse\n",
    "from scipy.sparse import csr_matrix"
   ]
  },
  {
   "cell_type": "code",
   "execution_count": 7,
   "metadata": {},
   "outputs": [],
   "source": [
    "n_list = [A.shape[1] for A in A_list]\n",
    "A_list_dense = [(A_list[i].todense() if issparse(A_list[i]) else A_list[i]) for i in range(len(A_list))]\n",
    "A = np.array(np.hstack(A_list_dense))\n",
    "d, e, A_hat, k = mat_equil(A, n_list, 1e-6, 1000)"
   ]
  },
  {
   "cell_type": "code",
   "execution_count": 9,
   "metadata": {},
   "outputs": [
    {
     "data": {
      "text/plain": [
       "array([0.17782794, 0.17782794])"
      ]
     },
     "execution_count": 9,
     "metadata": {},
     "output_type": "execute_result"
    }
   ],
   "source": []
  },
  {
   "cell_type": "code",
   "execution_count": 7,
   "metadata": {},
   "outputs": [],
   "source": [
    "from a2dr.precondition import precondition"
   ]
  },
  {
   "cell_type": "code",
   "execution_count": 8,
   "metadata": {},
   "outputs": [],
   "source": [
    "p_list, A_list_1, b_1, e_pre = precondition(prox_list, A_list, b, tol = 1e-6, max_iter = 1000)"
   ]
  },
  {
   "cell_type": "code",
   "execution_count": 99,
   "metadata": {},
   "outputs": [
    {
     "data": {
      "text/plain": [
       "24.047734095084536"
      ]
     },
     "execution_count": 99,
     "metadata": {},
     "output_type": "execute_result"
    }
   ],
   "source": [
    "v = np.random.randn(X.shape[1])\n",
    "rho = 10\n",
    "np.linalg.norm(p_list[0](v,rho) - prox_list[0](v,rho)) # not equal, but should equal"
   ]
  },
  {
   "cell_type": "markdown",
   "metadata": {},
   "source": [
    "# write out the core step in precondition above"
   ]
  },
  {
   "cell_type": "code",
   "execution_count": 100,
   "metadata": {},
   "outputs": [],
   "source": [
    "# write out the core step in precondition above\n",
    "p_eq_list = [lambda v, rho: prox(ei*v, rho/ei**2)/ei for prox, ei in zip(prox_list, e_pre)]"
   ]
  },
  {
   "cell_type": "code",
   "execution_count": 103,
   "metadata": {},
   "outputs": [
    {
     "name": "stdout",
     "output_type": "stream",
     "text": [
      "0.0\n",
      "23.865866227844432\n"
     ]
    }
   ],
   "source": [
    "v = np.random.randn(X.shape[1])\n",
    "rho = 10\n",
    "print(np.linalg.norm(p_eq_list[0](v,rho) - p_eq_list[1](v,rho)))\n",
    "print(np.linalg.norm(p_eq_list[0](v,rho) - prox_list[0](v,rho))) # same failure as above"
   ]
  },
  {
   "cell_type": "markdown",
   "metadata": {},
   "source": [
    "# Find out the reason: prox and ei are modified in place inside the new lambda functions"
   ]
  },
  {
   "cell_type": "code",
   "execution_count": 125,
   "metadata": {},
   "outputs": [],
   "source": [
    "p_eq_list = []\n",
    "for i in range(len(prox_list)):\n",
    "    prox = prox_list[i]\n",
    "    ei = e_pre[i]\n",
    "    tmp = lambda v, rho: prox(ei*v, rho/ei**2)/ei\n",
    "    p_eq_list.append(tmp)"
   ]
  },
  {
   "cell_type": "code",
   "execution_count": 126,
   "metadata": {},
   "outputs": [
    {
     "name": "stdout",
     "output_type": "stream",
     "text": [
      "0.0\n",
      "25.081935431942505\n"
     ]
    }
   ],
   "source": [
    "v = np.random.randn(X.shape[1])\n",
    "rho = 10\n",
    "print(np.linalg.norm(p_eq_list[0](v,rho) - p_eq_list[1](v,rho)))\n",
    "print(np.linalg.norm(p_eq_list[0](v,rho) - prox_list[0](v,rho)))"
   ]
  },
  {
   "cell_type": "code",
   "execution_count": 127,
   "metadata": {},
   "outputs": [
    {
     "name": "stdout",
     "output_type": "stream",
     "text": [
      "0.0\n",
      "0.0\n"
     ]
    }
   ],
   "source": [
    "prox = prox_list[0]\n",
    "tmp = lambda v, rho: prox(ei*v,rho/ei**2)/ei\n",
    "print(np.linalg.norm(tmp(v,rho) - prox_list[0](v,rho)))\n",
    "print(np.linalg.norm(p_eq_list[0](v,rho) - prox_list[0](v,rho)))"
   ]
  },
  {
   "cell_type": "code",
   "execution_count": 132,
   "metadata": {},
   "outputs": [],
   "source": [
    "# v = np.random.randn(X.shape[1])\n",
    "# rho = 10\n",
    "# print(np.linalg.norm(p_eq_list[0](v,rho) - p_eq_list[1](v,rho)))\n",
    "# print(np.linalg.norm(p_eq_list[0](v,rho) - prox_list[0](v,rho)))"
   ]
  },
  {
   "cell_type": "code",
   "execution_count": 131,
   "metadata": {},
   "outputs": [
    {
     "name": "stdout",
     "output_type": "stream",
     "text": [
      "0.0\n",
      "25.02088196593658\n"
     ]
    }
   ],
   "source": [
    "## How to resolve it? This is also wrong, since i is modified in place\n",
    "p_eq_list = []\n",
    "for i in range(len(prox_list)):\n",
    "    p_eq_list.append(lambda v, rho: prox_list[i](e_pre[i]*v, rho/e_pre[i]**2)/e_pre[i])\n",
    "    \n",
    "v = np.random.randn(X.shape[1])\n",
    "rho = 10\n",
    "print(np.linalg.norm(p_eq_list[0](v,rho) - p_eq_list[1](v,rho)))\n",
    "print(np.linalg.norm(p_eq_list[0](v,rho) - prox_list[0](v,rho)))"
   ]
  },
  {
   "cell_type": "code",
   "execution_count": 139,
   "metadata": {},
   "outputs": [
    {
     "name": "stdout",
     "output_type": "stream",
     "text": [
      "0.0\n",
      "0.0\n"
     ]
    }
   ],
   "source": [
    "tmp0 = lambda v, rho: prox_list[0](e_pre[0]*v, rho/e_pre[0]**2)/e_pre[0]\n",
    "tmp1 = lambda v, rho: prox_list[1](e_pre[1]*v, rho/e_pre[1]**2)/e_pre[1]\n",
    "print(np.linalg.norm(tmp0(v,rho) - prox_list[0](v,rho)))\n",
    "print(np.linalg.norm(tmp1(v,rho) - prox_list[1](v,rho)))"
   ]
  },
  {
   "cell_type": "code",
   "execution_count": 136,
   "metadata": {},
   "outputs": [
    {
     "data": {
      "text/plain": [
       "25.02088196593658"
      ]
     },
     "execution_count": 136,
     "metadata": {},
     "output_type": "execute_result"
    }
   ],
   "source": [
    "tmp_all = [tmp0, tmp1]\n",
    "np.linalg.norm(tmp_all[0](v,rho) - tmp_all[1](v,rho))"
   ]
  },
  {
   "cell_type": "code",
   "execution_count": 147,
   "metadata": {},
   "outputs": [
    {
     "name": "stdout",
     "output_type": "stream",
     "text": [
      "16\n",
      "16\n"
     ]
    }
   ],
   "source": [
    "# similar: https://stackoverflow.com/questions/6076270/lambda-function-in-list-comprehensions\n",
    "xyz = [lambda x: x*x for x in range(10)]\n",
    "print(xyz[1](4))\n",
    "print(xyz[2](4))"
   ]
  },
  {
   "cell_type": "code",
   "execution_count": 176,
   "metadata": {},
   "outputs": [
    {
     "name": "stdout",
     "output_type": "stream",
     "text": [
      "24.653665155186953\n",
      "0.0\n"
     ]
    }
   ],
   "source": [
    "# Correct solution\n",
    "def proto(i, prox_list, e_pre):\n",
    "    return lambda v, rho: prox_list[i](e_pre[i]*v, rho/e_pre[i]**2)/e_pre[i]\n",
    "p_eq_list = list(map(lambda i: proto(i,prox_list,e_pre), range(len(prox_list))))\n",
    "v = np.random.randn(X.shape[1])\n",
    "rho = 10\n",
    "print(np.linalg.norm(p_eq_list[0](v,rho) - p_eq_list[1](v,rho)))\n",
    "print(np.linalg.norm(p_eq_list[0](v,rho) - prox_list[0](v,rho)))"
   ]
  },
  {
   "cell_type": "code",
   "execution_count": 175,
   "metadata": {},
   "outputs": [
    {
     "data": {
      "text/plain": [
       "<function __main__.<lambda>(v, rho, i)>"
      ]
     },
     "execution_count": 175,
     "metadata": {},
     "output_type": "execute_result"
    }
   ],
   "source": [
    "proto"
   ]
  },
  {
   "cell_type": "code",
   "execution_count": 9,
   "metadata": {},
   "outputs": [],
   "source": [
    "# precondition(prox_list, A_list, b, tol = 1e-6, max_iter = 1000)"
   ]
  },
  {
   "cell_type": "code",
   "execution_count": 10,
   "metadata": {},
   "outputs": [],
   "source": [
    "# b == b"
   ]
  }
 ],
 "metadata": {
  "kernelspec": {
   "display_name": "Python 3",
   "language": "python",
   "name": "python3"
  },
  "language_info": {
   "codemirror_mode": {
    "name": "ipython",
    "version": 3
   },
   "file_extension": ".py",
   "mimetype": "text/x-python",
   "name": "python",
   "nbconvert_exporter": "python",
   "pygments_lexer": "ipython3",
   "version": "3.7.3"
  }
 },
 "nbformat": 4,
 "nbformat_minor": 2
}
